{
 "cells": [
  {
   "cell_type": "code",
   "execution_count": 25,
   "id": "f5127eb8-d7c0-40be-a26b-4d17376a3780",
   "metadata": {},
   "outputs": [
    {
     "name": "stdout",
     "output_type": "stream",
     "text": [
      "\n",
      "📂 TRAIN SET\n",
      "   Acne and Rosacea Photos: 714\n",
      "   Actinic Keratosis Basal Cell Carcinoma and other Malignant Lesions: 977\n",
      "   Atopic Dermatitis Photos: 416\n",
      "   Bullous Disease Photos: 381\n",
      "   Cellulitis Impetigo and other Bacterial Infections: 245\n",
      "   Eczema Photos: 1050\n",
      "   Exanthems and Drug Eruptions: 344\n",
      "   Hair Loss Photos Alopecia and other Hair Diseases: 204\n",
      "   Herpes HPV and other STDs Photos: 345\n",
      "   Light Diseases and Disorders of Pigmentation: 483\n",
      "   Lupus and other Connective Tissue diseases: 357\n",
      "   Melanoma Skin Cancer Nevi and Moles: 394\n",
      "   Nail Fungus and other Nail Disease: 884\n",
      "   Poison Ivy Photos and other Contact Dermatitis: 221\n",
      "   Psoriasis pictures Lichen Planus and related diseases: 1195\n",
      "   Scabies Lyme Disease and other Infestations and Bites: 367\n",
      "   Seborrheic Keratoses and other Benign Tumors: 1166\n",
      "   Systemic Disease: 516\n",
      "   Tinea Ringworm Candidiasis and other Fungal Infections: 1105\n",
      "   Urticaria Hives: 181\n",
      "   Vascular Tumors: 410\n",
      "   Vasculitis Photos: 354\n",
      "   Warts Molluscum and other Viral Infections: 924\n",
      "➡️ Total train: 13233\n",
      "\n",
      "📂 VAL SET\n",
      "   Acne and Rosacea Photos: 213\n",
      "   Actinic Keratosis Basal Cell Carcinoma and other Malignant Lesions: 288\n",
      "   Atopic Dermatitis Photos: 132\n",
      "   Bullous Disease Photos: 120\n",
      "   Cellulitis Impetigo and other Bacterial Infections: 79\n",
      "   Eczema Photos: 312\n",
      "   Exanthems and Drug Eruptions: 103\n",
      "   Hair Loss Photos Alopecia and other Hair Diseases: 60\n",
      "   Herpes HPV and other STDs Photos: 109\n",
      "   Light Diseases and Disorders of Pigmentation: 144\n",
      "   Lupus and other Connective Tissue diseases: 109\n",
      "   Melanoma Skin Cancer Nevi and Moles: 116\n",
      "   Nail Fungus and other Nail Disease: 260\n",
      "   Poison Ivy Photos and other Contact Dermatitis: 69\n",
      "   Psoriasis pictures Lichen Planus and related diseases: 351\n",
      "   Scabies Lyme Disease and other Infestations and Bites: 118\n",
      "   Seborrheic Keratoses and other Benign Tumors: 349\n",
      "   Systemic Disease: 161\n",
      "   Tinea Ringworm Candidiasis and other Fungal Infections: 338\n",
      "   Urticaria Hives: 55\n",
      "   Vascular Tumors: 127\n",
      "   Vasculitis Photos: 116\n",
      "   Warts Molluscum and other Viral Infections: 281\n",
      "➡️ Total val: 4010\n",
      "\n",
      "📂 TEST SET\n",
      "   Acne and Rosacea Photos: 312\n",
      "   Actinic Keratosis Basal Cell Carcinoma and other Malignant Lesions: 288\n",
      "   Atopic Dermatitis Photos: 123\n",
      "   Bullous Disease Photos: 113\n",
      "   Cellulitis Impetigo and other Bacterial Infections: 73\n",
      "   Eczema Photos: 309\n",
      "   Exanthems and Drug Eruptions: 101\n",
      "   Hair Loss Photos Alopecia and other Hair Diseases: 60\n",
      "   Herpes HPV and other STDs Photos: 102\n",
      "   Light Diseases and Disorders of Pigmentation: 143\n",
      "   Lupus and other Connective Tissue diseases: 105\n",
      "   Melanoma Skin Cancer Nevi and Moles: 116\n",
      "   Nail Fungus and other Nail Disease: 261\n",
      "   Poison Ivy Photos and other Contact Dermatitis: 65\n",
      "   Psoriasis pictures Lichen Planus and related diseases: 352\n",
      "   Scabies Lyme Disease and other Infestations and Bites: 108\n",
      "   Seborrheic Keratoses and other Benign Tumors: 343\n",
      "   Systemic Disease: 152\n",
      "   Tinea Ringworm Candidiasis and other Fungal Infections: 325\n",
      "   Urticaria Hives: 53\n",
      "   Vascular Tumors: 121\n",
      "   Vasculitis Photos: 105\n",
      "   Warts Molluscum and other Viral Infections: 272\n",
      "➡️ Total test: 4002\n"
     ]
    }
   ],
   "source": [
    "import os\n",
    "from pathlib import Path\n",
    "\n",
    "DEST_DIR = Path(\"dataset/\")\n",
    "\n",
    "def count_images(base_dir):\n",
    "    for split in [\"train\", \"val\", \"test\"]:\n",
    "        split_path = base_dir / split\n",
    "        total = 0\n",
    "        print(f\"\\n📂 {split.upper()} SET\")\n",
    "        for cls in sorted(os.listdir(split_path)):\n",
    "            cls_path = split_path / cls\n",
    "            if not cls_path.is_dir():\n",
    "                continue\n",
    "            n = len([f for f in os.listdir(cls_path) if f.lower().endswith(('.jpg','.jpeg','.png'))])\n",
    "            total += n\n",
    "            print(f\"   {cls}: {n}\")\n",
    "        print(f\"➡️ Total {split}: {total}\")\n",
    "\n",
    "count_images(DEST_DIR)"
   ]
  },
  {
   "cell_type": "code",
   "execution_count": 10,
   "id": "5d37a5f6-f753-4bef-90d2-c65a837d46ee",
   "metadata": {},
   "outputs": [
    {
     "name": "stdout",
     "output_type": "stream",
     "text": [
      "Using device: cuda\n",
      "Train: 13233 | Val: 4012 | Test: 4017\n",
      "Classes: ['Acne and Rosacea Photos', 'Actinic Keratosis Basal Cell Carcinoma and other Malignant Lesions', 'Atopic Dermatitis Photos', 'Bullous Disease Photos', 'Cellulitis Impetigo and other Bacterial Infections', 'Eczema Photos', 'Exanthems and Drug Eruptions', 'Hair Loss Photos Alopecia and other Hair Diseases', 'Herpes HPV and other STDs Photos', 'Light Diseases and Disorders of Pigmentation', 'Lupus and other Connective Tissue diseases', 'Melanoma Skin Cancer Nevi and Moles', 'Nail Fungus and other Nail Disease', 'Poison Ivy Photos and other Contact Dermatitis', 'Psoriasis pictures Lichen Planus and related diseases', 'Scabies Lyme Disease and other Infestations and Bites', 'Seborrheic Keratoses and other Benign Tumors', 'Systemic Disease', 'Tinea Ringworm Candidiasis and other Fungal Infections', 'Urticaria Hives', 'Vascular Tumors', 'Vasculitis Photos', 'Warts Molluscum and other Viral Infections']\n"
     ]
    },
    {
     "name": "stderr",
     "output_type": "stream",
     "text": [
      "/tmp/ipykernel_218364/4257373711.py:84: FutureWarning: `torch.cuda.amp.GradScaler(args...)` is deprecated. Please use `torch.amp.GradScaler('cuda', args...)` instead.\n",
      "  scaler = torch.cuda.amp.GradScaler()\n"
     ]
    },
    {
     "name": "stdout",
     "output_type": "stream",
     "text": [
      "Loaded Swin-Tiny Transformer\n",
      "\n",
      "Epoch [1/25]\n"
     ]
    },
    {
     "name": "stderr",
     "output_type": "stream",
     "text": [
      "/tmp/ipykernel_218364/4257373711.py:97: FutureWarning: `torch.cuda.amp.autocast(args...)` is deprecated. Please use `torch.amp.autocast('cuda', args...)` instead.\n",
      "  with torch.cuda.amp.autocast():\n",
      "\n",
      "/tmp/ipykernel_218364/4257373711.py:118: FutureWarning: `torch.cuda.amp.autocast(args...)` is deprecated. Please use `torch.amp.autocast('cuda', args...)` instead.\n",
      "  with torch.cuda.amp.autocast():\n",
      "\n",
      "alidation: 100%|██████████| 63/63 [00:04<00:00, 13.67it/s]"
     ]
    },
    {
     "name": "stdout",
     "output_type": "stream",
     "text": [
      "Train Loss: 2.2466, Train Acc: 0.3379\n",
      "Val Loss: 1.7521, Val Acc: 0.4681\n",
      "\n",
      "Epoch [2/25]\n"
     ]
    },
    {
     "name": "stderr",
     "output_type": "stream",
     "text": [
      "\n",
      "\n",
      "alidation: 100%|██████████| 63/63 [00:04<00:00, 13.99it/s]"
     ]
    },
    {
     "name": "stdout",
     "output_type": "stream",
     "text": [
      "Train Loss: 1.6295, Train Acc: 0.5070\n",
      "Val Loss: 1.3418, Val Acc: 0.5945\n",
      "\n",
      "Epoch [3/25]\n"
     ]
    },
    {
     "name": "stderr",
     "output_type": "stream",
     "text": [
      "\n",
      "\n",
      "alidation: 100%|██████████| 63/63 [00:04<00:00, 12.95it/s]"
     ]
    },
    {
     "name": "stdout",
     "output_type": "stream",
     "text": [
      "Train Loss: 1.2223, Train Acc: 0.6258\n",
      "Val Loss: 1.0792, Val Acc: 0.6864\n",
      "\n",
      "Epoch [4/25]\n"
     ]
    },
    {
     "name": "stderr",
     "output_type": "stream",
     "text": [
      "\n",
      "\n",
      "alidation: 100%|██████████| 63/63 [00:04<00:00, 13.35it/s]"
     ]
    },
    {
     "name": "stdout",
     "output_type": "stream",
     "text": [
      "Train Loss: 0.9040, Train Acc: 0.7254\n",
      "Val Loss: 0.9570, Val Acc: 0.7164\n",
      "\n",
      "Epoch [5/25]\n"
     ]
    },
    {
     "name": "stderr",
     "output_type": "stream",
     "text": [
      "\n",
      "\n",
      "alidation: 100%|██████████| 63/63 [00:04<00:00, 13.89it/s]"
     ]
    },
    {
     "name": "stdout",
     "output_type": "stream",
     "text": [
      "Train Loss: 0.6688, Train Acc: 0.7914\n",
      "Val Loss: 0.8521, Val Acc: 0.7607\n",
      "\n",
      "Epoch [6/25]\n"
     ]
    },
    {
     "name": "stderr",
     "output_type": "stream",
     "text": [
      "\n",
      "\n",
      "alidation: 100%|██████████| 63/63 [00:04<00:00, 14.30it/s]"
     ]
    },
    {
     "name": "stdout",
     "output_type": "stream",
     "text": [
      "Train Loss: 0.4939, Train Acc: 0.8436\n",
      "Val Loss: 0.8137, Val Acc: 0.7729\n",
      "\n",
      "Epoch [7/25]\n"
     ]
    },
    {
     "name": "stderr",
     "output_type": "stream",
     "text": [
      "\n",
      "\n",
      "alidation: 100%|██████████| 63/63 [00:04<00:00, 13.43it/s]"
     ]
    },
    {
     "name": "stdout",
     "output_type": "stream",
     "text": [
      "Train Loss: 0.3648, Train Acc: 0.8879\n",
      "Val Loss: 0.7624, Val Acc: 0.7919\n",
      "\n",
      "Epoch [8/25]\n"
     ]
    },
    {
     "name": "stderr",
     "output_type": "stream",
     "text": [
      "\n",
      "\n",
      "alidation: 100%|██████████| 63/63 [00:04<00:00, 13.94it/s]"
     ]
    },
    {
     "name": "stdout",
     "output_type": "stream",
     "text": [
      "Train Loss: 0.2887, Train Acc: 0.9095\n",
      "Val Loss: 0.7648, Val Acc: 0.8008\n",
      "\n",
      "Epoch [9/25]\n"
     ]
    },
    {
     "name": "stderr",
     "output_type": "stream",
     "text": [
      "\n",
      "\n",
      "alidation: 100%|██████████| 63/63 [00:04<00:00, 14.08it/s]"
     ]
    },
    {
     "name": "stdout",
     "output_type": "stream",
     "text": [
      "Train Loss: 0.2290, Train Acc: 0.9289\n",
      "Val Loss: 0.7862, Val Acc: 0.7996\n",
      "\n",
      "Epoch [10/25]\n"
     ]
    },
    {
     "name": "stderr",
     "output_type": "stream",
     "text": [
      "\n",
      "\n",
      "alidation: 100%|██████████| 63/63 [00:04<00:00, 13.48it/s]"
     ]
    },
    {
     "name": "stdout",
     "output_type": "stream",
     "text": [
      "Train Loss: 0.1989, Train Acc: 0.9377\n",
      "Val Loss: 0.7716, Val Acc: 0.8158\n",
      "\n",
      "Epoch [11/25]\n"
     ]
    },
    {
     "name": "stderr",
     "output_type": "stream",
     "text": [
      "\n",
      "\n",
      "alidation: 100%|██████████| 63/63 [00:04<00:00, 13.68it/s]"
     ]
    },
    {
     "name": "stdout",
     "output_type": "stream",
     "text": [
      "Train Loss: 0.1760, Train Acc: 0.9411\n",
      "Val Loss: 0.7764, Val Acc: 0.8143\n",
      "\n",
      "Epoch [12/25]\n"
     ]
    },
    {
     "name": "stderr",
     "output_type": "stream",
     "text": [
      "\n",
      "\n",
      "alidation: 100%|██████████| 63/63 [00:04<00:00, 13.91it/s]"
     ]
    },
    {
     "name": "stdout",
     "output_type": "stream",
     "text": [
      "Train Loss: 0.1511, Train Acc: 0.9513\n",
      "Val Loss: 0.7935, Val Acc: 0.8113\n",
      "\n",
      "Epoch [13/25]\n"
     ]
    },
    {
     "name": "stderr",
     "output_type": "stream",
     "text": [
      "\n",
      "\n",
      "alidation: 100%|██████████| 63/63 [00:04<00:00, 14.41it/s]"
     ]
    },
    {
     "name": "stdout",
     "output_type": "stream",
     "text": [
      "Train Loss: 0.1302, Train Acc: 0.9562\n",
      "Val Loss: 0.7974, Val Acc: 0.8190\n",
      "\n",
      "Epoch [14/25]\n"
     ]
    },
    {
     "name": "stderr",
     "output_type": "stream",
     "text": [
      "\n",
      "\n",
      "alidation: 100%|██████████| 63/63 [00:04<00:00, 13.78it/s]"
     ]
    },
    {
     "name": "stdout",
     "output_type": "stream",
     "text": [
      "Train Loss: 0.1239, Train Acc: 0.9576\n",
      "Val Loss: 0.7919, Val Acc: 0.8223\n",
      "\n",
      "Epoch [15/25]\n"
     ]
    },
    {
     "name": "stderr",
     "output_type": "stream",
     "text": [
      "\n",
      "\n",
      "alidation: 100%|██████████| 63/63 [00:04<00:00, 13.96it/s]"
     ]
    },
    {
     "name": "stdout",
     "output_type": "stream",
     "text": [
      "Train Loss: 0.1101, Train Acc: 0.9615\n",
      "Val Loss: 0.7821, Val Acc: 0.8193\n",
      "\n",
      "Epoch [16/25]\n"
     ]
    },
    {
     "name": "stderr",
     "output_type": "stream",
     "text": [
      "\n",
      "\n",
      "alidation: 100%|██████████| 63/63 [00:04<00:00, 14.30it/s]"
     ]
    },
    {
     "name": "stdout",
     "output_type": "stream",
     "text": [
      "Train Loss: 0.1011, Train Acc: 0.9631\n",
      "Val Loss: 0.7973, Val Acc: 0.8183\n",
      "\n",
      "Epoch [17/25]\n"
     ]
    },
    {
     "name": "stderr",
     "output_type": "stream",
     "text": [
      "\n",
      "\n",
      "alidation: 100%|██████████| 63/63 [00:04<00:00, 14.36it/s]"
     ]
    },
    {
     "name": "stdout",
     "output_type": "stream",
     "text": [
      "Train Loss: 0.0876, Train Acc: 0.9662\n",
      "Val Loss: 0.7873, Val Acc: 0.8235\n",
      "\n",
      "Epoch [18/25]\n"
     ]
    },
    {
     "name": "stderr",
     "output_type": "stream",
     "text": [
      "\n",
      "\n",
      "alidation: 100%|██████████| 63/63 [00:04<00:00, 13.74it/s]"
     ]
    },
    {
     "name": "stdout",
     "output_type": "stream",
     "text": [
      "Train Loss: 0.0841, Train Acc: 0.9683\n",
      "Val Loss: 0.7943, Val Acc: 0.8235\n",
      "\n",
      "Epoch [19/25]\n"
     ]
    },
    {
     "name": "stderr",
     "output_type": "stream",
     "text": [
      "\n",
      "\n",
      "alidation: 100%|██████████| 63/63 [00:04<00:00, 14.63it/s]"
     ]
    },
    {
     "name": "stdout",
     "output_type": "stream",
     "text": [
      "Train Loss: 0.0756, Train Acc: 0.9691\n",
      "Val Loss: 0.7964, Val Acc: 0.8288\n",
      "\n",
      "Epoch [20/25]\n"
     ]
    },
    {
     "name": "stderr",
     "output_type": "stream",
     "text": [
      "\n",
      "\n",
      "alidation: 100%|██████████| 63/63 [00:04<00:00, 14.27it/s]"
     ]
    },
    {
     "name": "stdout",
     "output_type": "stream",
     "text": [
      "Train Loss: 0.0696, Train Acc: 0.9717\n",
      "Val Loss: 0.7946, Val Acc: 0.8293\n",
      "\n",
      "Epoch [21/25]\n"
     ]
    },
    {
     "name": "stderr",
     "output_type": "stream",
     "text": [
      "\n",
      "\n",
      "alidation: 100%|██████████| 63/63 [00:04<00:00, 13.06it/s]"
     ]
    },
    {
     "name": "stdout",
     "output_type": "stream",
     "text": [
      "Train Loss: 0.0673, Train Acc: 0.9720\n",
      "Val Loss: 0.7941, Val Acc: 0.8275\n",
      "\n",
      "Epoch [22/25]\n"
     ]
    },
    {
     "name": "stderr",
     "output_type": "stream",
     "text": [
      "\n",
      "\n",
      "alidation: 100%|██████████| 63/63 [00:04<00:00, 14.16it/s]"
     ]
    },
    {
     "name": "stdout",
     "output_type": "stream",
     "text": [
      "Train Loss: 0.0676, Train Acc: 0.9709\n",
      "Val Loss: 0.8021, Val Acc: 0.8263\n",
      "\n",
      "Epoch [23/25]\n"
     ]
    },
    {
     "name": "stderr",
     "output_type": "stream",
     "text": [
      "\n",
      "\n",
      "alidation: 100%|██████████| 63/63 [00:04<00:00, 14.19it/s]"
     ]
    },
    {
     "name": "stdout",
     "output_type": "stream",
     "text": [
      "Train Loss: 0.0621, Train Acc: 0.9744\n",
      "Val Loss: 0.7996, Val Acc: 0.8310\n",
      "\n",
      "Epoch [24/25]\n"
     ]
    },
    {
     "name": "stderr",
     "output_type": "stream",
     "text": [
      "\n",
      "\n",
      "alidation: 100%|██████████| 63/63 [00:04<00:00, 13.99it/s]"
     ]
    },
    {
     "name": "stdout",
     "output_type": "stream",
     "text": [
      "Train Loss: 0.0646, Train Acc: 0.9738\n",
      "Val Loss: 0.8000, Val Acc: 0.8300\n",
      "\n",
      "Epoch [25/25]\n"
     ]
    },
    {
     "name": "stderr",
     "output_type": "stream",
     "text": [
      "\n",
      "\n",
      "alidation: 100%|██████████| 63/63 [00:04<00:00, 13.62it/s]"
     ]
    },
    {
     "name": "stdout",
     "output_type": "stream",
     "text": [
      "Train Loss: 0.0614, Train Acc: 0.9747\n",
      "Val Loss: 0.8008, Val Acc: 0.8305\n"
     ]
    },
    {
     "data": {
      "image/png": "[encoded data removed]",
      "text/plain": [
       "<Figure size 800x600 with 1 Axes>"
      ]
     },
     "metadata": {},
     "output_type": "display_data"
    },
    {
     "name": "stderr",
     "output_type": "stream",
     "text": [
      "Testing: 100%|██████████| 63/63 [00:04<00:00, 13.66it/s]"
     ]
    },
    {
     "name": "stdout",
     "output_type": "stream",
     "text": [
      "\n",
      "✅ Final Test Accuracy: 70.70%\n"
     ]
    },
    {
     "name": "stderr",
     "output_type": "stream",
     "text": [
      "\n"
     ]
    }
   ],
   "source": [
    "# =========================================================\n",
    "# Swin Tiny Transformer on DermNet (23 classes)\n",
    "# =========================================================\n",
    "\n",
    "import os\n",
    "import torch\n",
    "import torch.nn as nn\n",
    "import torch.optim as optim\n",
    "from torch.utils.data import DataLoader\n",
    "from torchvision import datasets, transforms\n",
    "from torch.optim.lr_scheduler import CosineAnnealingLR\n",
    "from tqdm import tqdm\n",
    "import matplotlib.pyplot as plt\n",
    "import pandas as pd\n",
    "import timm\n",
    "\n",
    "# -------------------------\n",
    "# ✅ Device setup\n",
    "# -------------------------\n",
    "device = torch.device(\"cuda\" if torch.cuda.is_available() else \"cpu\")\n",
    "print(\"Using device:\", device)\n",
    "\n",
    "# -------------------------\n",
    "# ✅ Dataset paths\n",
    "# -------------------------\n",
    "DATA_ROOT = \"dataset/\"  # contains train/, val/, test/\n",
    "\n",
    "# -------------------------\n",
    "# ✅ Transforms\n",
    "# -------------------------\n",
    "IMG_SIZE = 224\n",
    "mean = [0.485, 0.456, 0.406]\n",
    "std  = [0.229, 0.224, 0.225]\n",
    "\n",
    "train_transform = transforms.Compose([\n",
    "    transforms.Resize((IMG_SIZE, IMG_SIZE)),\n",
    "    transforms.RandomHorizontalFlip(),\n",
    "    transforms.RandomRotation(15),\n",
    "    transforms.ColorJitter(brightness=0.2, contrast=0.2, saturation=0.2),\n",
    "    transforms.ToTensor(),\n",
    "    transforms.Normalize(mean, std)\n",
    "])\n",
    "\n",
    "val_test_transform = transforms.Compose([\n",
    "    transforms.Resize((IMG_SIZE, IMG_SIZE)),\n",
    "    transforms.ToTensor(),\n",
    "    transforms.Normalize(mean, std)\n",
    "])\n",
    "\n",
    "# -------------------------\n",
    "# ✅ Load datasets\n",
    "# -------------------------\n",
    "train_ds = datasets.ImageFolder(os.path.join(DATA_ROOT, \"train\"), transform=train_transform)\n",
    "val_ds   = datasets.ImageFolder(os.path.join(DATA_ROOT, \"val\"), transform=val_test_transform)\n",
    "test_ds  = datasets.ImageFolder(os.path.join(DATA_ROOT, \"test\"), transform=val_test_transform)\n",
    "\n",
    "BATCH_SIZE = 64\n",
    "train_loader = DataLoader(train_ds, batch_size=BATCH_SIZE, shuffle=True, num_workers=4, pin_memory=True)\n",
    "val_loader   = DataLoader(val_ds, batch_size=BATCH_SIZE, shuffle=False, num_workers=4, pin_memory=True)\n",
    "test_loader  = DataLoader(test_ds, batch_size=BATCH_SIZE, shuffle=False, num_workers=4, pin_memory=True)\n",
    "\n",
    "print(f\"Train: {len(train_ds)} | Val: {len(val_ds)} | Test: {len(test_ds)}\")\n",
    "print(\"Classes:\", train_ds.classes)\n",
    "\n",
    "# -------------------------\n",
    "# ✅ Swin Tiny Model\n",
    "# -------------------------\n",
    "NUM_CLASSES = len(train_ds.classes)\n",
    "model = timm.create_model(\"swin_tiny_patch4_window7_224\", pretrained=True, num_classes=NUM_CLASSES)\n",
    "model = model.to(device)\n",
    "print(\"Loaded Swin-Tiny Transformer\")\n",
    "\n",
    "# -------------------------\n",
    "# ✅ Loss, Optimizer, Scheduler\n",
    "# -------------------------\n",
    "criterion = nn.CrossEntropyLoss()\n",
    "optimizer = optim.AdamW(model.parameters(), lr=1e-4, weight_decay=1e-4)\n",
    "num_epochs = 25\n",
    "scheduler = CosineAnnealingLR(optimizer, T_max=num_epochs)\n",
    "\n",
    "# -------------------------\n",
    "# ✅ Training Loop\n",
    "# -------------------------\n",
    "scaler = torch.cuda.amp.GradScaler()\n",
    "history = {\"epoch\": [], \"train_loss\": [], \"train_acc\": [], \"val_loss\": [], \"val_acc\": []}\n",
    "\n",
    "for epoch in range(num_epochs):\n",
    "    print(f\"\\nEpoch [{epoch+1}/{num_epochs}]\")\n",
    "    \n",
    "    # ---- Training ----\n",
    "    model.train()\n",
    "    train_loss, train_correct = 0.0, 0\n",
    "    for inputs, labels in tqdm(train_loader, desc=\"Training\"):\n",
    "        inputs, labels = inputs.to(device), labels.to(device)\n",
    "        optimizer.zero_grad()\n",
    "\n",
    "        with torch.cuda.amp.autocast():\n",
    "            outputs = model(inputs)\n",
    "            loss = criterion(outputs, labels)\n",
    "\n",
    "        scaler.scale(loss).backward()\n",
    "        scaler.step(optimizer)\n",
    "        scaler.update()\n",
    "\n",
    "        _, preds = torch.max(outputs, 1)\n",
    "        train_loss += loss.item() * inputs.size(0)\n",
    "        train_correct += torch.sum(preds == labels.data)\n",
    "\n",
    "    epoch_train_loss = train_loss / len(train_loader.dataset)\n",
    "    epoch_train_acc = train_correct.double() / len(train_loader.dataset)\n",
    "\n",
    "    # ---- Validation ----\n",
    "    model.eval()\n",
    "    val_loss, val_correct = 0.0, 0\n",
    "    with torch.no_grad():\n",
    "        for inputs, labels in tqdm(val_loader, desc=\"Validation\"):\n",
    "            inputs, labels = inputs.to(device), labels.to(device)\n",
    "            with torch.cuda.amp.autocast():\n",
    "                outputs = model(inputs)\n",
    "                loss = criterion(outputs, labels)\n",
    "\n",
    "            _, preds = torch.max(outputs, 1)\n",
    "            val_loss += loss.item() * inputs.size(0)\n",
    "            val_correct += torch.sum(preds == labels.data)\n",
    "\n",
    "    epoch_val_loss = val_loss / len(val_loader.dataset)\n",
    "    epoch_val_acc = val_correct.double() / len(val_loader.dataset)\n",
    "\n",
    "    # ---- Scheduler Step ----\n",
    "    scheduler.step()\n",
    "\n",
    "    # ---- Save history ----\n",
    "    history[\"epoch\"].append(epoch+1)\n",
    "    history[\"train_loss\"].append(epoch_train_loss)\n",
    "    history[\"train_acc\"].append(epoch_train_acc.item())\n",
    "    history[\"val_loss\"].append(epoch_val_loss)\n",
    "    history[\"val_acc\"].append(epoch_val_acc.item())\n",
    "\n",
    "    print(f\"Train Loss: {epoch_train_loss:.4f}, Train Acc: {epoch_train_acc:.4f}\")\n",
    "    print(f\"Val Loss: {epoch_val_loss:.4f}, Val Acc: {epoch_val_acc:.4f}\")\n",
    "\n",
    "# -------------------------\n",
    "# ✅ Plot Training Curves\n",
    "# -------------------------\n",
    "plt.figure(figsize=(8, 6))\n",
    "plt.plot(history[\"epoch\"], history[\"train_loss\"], label=\"Train Loss\")\n",
    "plt.plot(history[\"epoch\"], history[\"val_loss\"], label=\"Val Loss\")\n",
    "plt.plot(history[\"epoch\"], history[\"train_acc\"], label=\"Train Acc\")\n",
    "plt.plot(history[\"epoch\"], history[\"val_acc\"], label=\"Val Acc\")\n",
    "plt.xlabel(\"Epochs\")\n",
    "plt.ylabel(\"Metrics\")\n",
    "plt.legend()\n",
    "plt.title(\"Training Progress (Swin-Tiny)\")\n",
    "plt.show()\n",
    "\n",
    "# -------------------------\n",
    "# ✅ Test Accuracy\n",
    "# -------------------------\n",
    "model.eval()\n",
    "test_correct, test_total = 0, 0\n",
    "with torch.no_grad():\n",
    "    for inputs, labels in tqdm(test_loader, desc=\"Testing\"):\n",
    "        inputs, labels = inputs.to(device), labels.to(device)\n",
    "        outputs = model(inputs)\n",
    "        _, preds = torch.max(outputs, 1)\n",
    "        test_correct += torch.sum(preds == labels).item()\n",
    "        test_total += labels.size(0)\n",
    "\n",
    "test_acc = test_correct / test_total\n",
    "print(f\"\\n✅ Final Test Accuracy: {test_acc*100:.2f}%\")\n"
   ]
  },
  {
   "cell_type": "code",
   "execution_count": 26,
   "id": "8bac3443-cd34-4307-bc3b-15fd95e05a7c",
   "metadata": {
    "scrolled": true
   },
   "outputs": [
    {
     "name": "stderr",
     "output_type": "stream",
     "text": [
      "/tmp/ipykernel_218364/4180138055.py:17: FutureWarning: `torch.cuda.amp.autocast(args...)` is deprecated. Please use `torch.amp.autocast('cuda', args...)` instead.\n",
      "  with torch.cuda.amp.autocast():\n",
      "\n",
      "esting: 100%|██████████| 63/63 [00:19<00:00,  3.24it/s]"
     ]
    },
    {
     "name": "stdout",
     "output_type": "stream",
     "text": [
      "\n",
      "📊 Test Accuracy: 0.6739, Test Loss: 1.8979\n",
      "\n",
      "Classification Report:\n",
      "                                                                    precision    recall  f1-score   support\n",
      "\n",
      "                                           Acne and Rosacea Photos       0.81      0.88      0.84       313\n",
      "Actinic Keratosis Basal Cell Carcinoma and other Malignant Lesions       0.76      0.66      0.71       288\n",
      "                                          Atopic Dermatitis Photos       0.62      0.74      0.68       124\n",
      "                                            Bullous Disease Photos       0.61      0.61      0.61       113\n",
      "                Cellulitis Impetigo and other Bacterial Infections       0.43      0.55      0.48        86\n",
      "                                                     Eczema Photos       0.70      0.60      0.65       309\n",
      "                                      Exanthems and Drug Eruptions       0.49      0.60      0.54       101\n",
      "                 Hair Loss Photos Alopecia and other Hair Diseases       0.52      0.78      0.63        60\n",
      "                                  Herpes HPV and other STDs Photos       0.48      0.59      0.53       102\n",
      "                      Light Diseases and Disorders of Pigmentation       0.59      0.64      0.61       143\n",
      "                        Lupus and other Connective Tissue diseases       0.55      0.56      0.56       105\n",
      "                               Melanoma Skin Cancer Nevi and Moles       0.72      0.82      0.77       116\n",
      "                                Nail Fungus and other Nail Disease       0.83      0.77      0.80       261\n",
      "                    Poison Ivy Photos and other Contact Dermatitis       0.51      0.60      0.55        65\n",
      "             Psoriasis pictures Lichen Planus and related diseases       0.67      0.54      0.60       352\n",
      "             Scabies Lyme Disease and other Infestations and Bites       0.64      0.65      0.65       108\n",
      "                      Seborrheic Keratoses and other Benign Tumors       0.81      0.65      0.72       343\n",
      "                                                  Systemic Disease       0.60      0.64      0.62       152\n",
      "            Tinea Ringworm Candidiasis and other Fungal Infections       0.75      0.67      0.71       325\n",
      "                                                   Urticaria Hives       0.49      0.83      0.62        53\n",
      "                                                   Vascular Tumors       0.63      0.81      0.71       121\n",
      "                                                 Vasculitis Photos       0.64      0.71      0.67       105\n",
      "                        Warts Molluscum and other Viral Infections       0.70      0.65      0.68       272\n",
      "\n",
      "                                                          accuracy                           0.67      4017\n",
      "                                                         macro avg       0.63      0.68      0.65      4017\n",
      "                                                      weighted avg       0.69      0.67      0.68      4017\n",
      "\n"
     ]
    },
    {
     "data": {
      "image/png": "[encoded data removed]",
      "text/plain": [
       "<Figure size 1400x1000 with 2 Axes>"
      ]
     },
     "metadata": {},
     "output_type": "display_data"
    }
   ],
   "source": [
    "from sklearn.metrics import classification_report, confusion_matrix\n",
    "import seaborn as sns\n",
    "\n",
    "# =========================================\n",
    "# 9. Final Test Evaluation\n",
    "# =========================================\n",
    "# Load best model (in case early stopping stopped before last epoch)\n",
    "model.load_state_dict(torch.load(\"best_swin_tiny.pth\", map_location=device))\n",
    "model.eval()\n",
    "\n",
    "test_loss, test_correct = 0.0, 0\n",
    "all_preds, all_labels = [], []\n",
    "\n",
    "with torch.no_grad():\n",
    "    for inputs, labels in tqdm(test_loader, desc=\"Testing\"):\n",
    "        inputs, labels = inputs.to(device), labels.to(device)\n",
    "        with torch.cuda.amp.autocast():\n",
    "            outputs = model(inputs)\n",
    "            loss = criterion(outputs, labels)\n",
    "\n",
    "        _, preds = torch.max(outputs, 1)\n",
    "        test_loss += loss.item() * inputs.size(0)\n",
    "        test_correct += torch.sum(preds == labels)\n",
    "\n",
    "        all_preds.extend(preds.cpu().numpy())\n",
    "        all_labels.extend(labels.cpu().numpy())\n",
    "\n",
    "test_acc = test_correct.double() / len(test_loader.dataset)\n",
    "test_loss /= len(test_loader.dataset)\n",
    "\n",
    "print(f\"\\n📊 Test Accuracy: {test_acc:.4f}, Test Loss: {test_loss:.4f}\\n\")\n",
    "\n",
    "# =========================================\n",
    "# 10. Classification Report\n",
    "# =========================================\n",
    "print(\"Classification Report:\")\n",
    "print(classification_report(all_labels, all_preds, target_names=test_dataset.classes))\n",
    "\n",
    "# =========================================\n",
    "# 11. Confusion Matrix\n",
    "# =========================================\n",
    "cm = confusion_matrix(all_labels, all_preds)\n",
    "plt.figure(figsize=(14, 10))\n",
    "sns.heatmap(cm, annot=False, cmap=\"Blues\", xticklabels=test_dataset.classes, yticklabels=test_dataset.classes)\n",
    "plt.title(\"Confusion Matrix - Test Set\")\n",
    "plt.xlabel(\"Predicted\")\n",
    "plt.ylabel(\"True\")\n",
    "plt.tight_layout()\n",
    "plt.show()\n"
   ]
  },
  {
   "cell_type": "code",
   "execution_count": 1,
   "id": "b34e83ae-da30-4979-bd3a-0393603a043e",
   "metadata": {},
   "outputs": [
    {
     "name": "stderr",
     "output_type": "stream",
     "text": [
      "/workspace/3c17/swin_env/lib/python3.12/site-packages/tqdm/auto.py:21: TqdmWarning: IProgress not found. Please update jupyter and ipywidgets. See https://ipywidgets.readthedocs.io/en/stable/user_install.html\n",
      "  from .autonotebook import tqdm as notebook_tqdm\n"
     ]
    },
    {
     "name": "stdout",
     "output_type": "stream",
     "text": [
      "Using device: cuda\n",
      "Train: 13233 | Val: 4012 | Test: 4017\n",
      "Classes: ['Acne and Rosacea Photos', 'Actinic Keratosis Basal Cell Carcinoma and other Malignant Lesions', 'Atopic Dermatitis Photos', 'Bullous Disease Photos', 'Cellulitis Impetigo and other Bacterial Infections', 'Eczema Photos', 'Exanthems and Drug Eruptions', 'Hair Loss Photos Alopecia and other Hair Diseases', 'Herpes HPV and other STDs Photos', 'Light Diseases and Disorders of Pigmentation', 'Lupus and other Connective Tissue diseases', 'Melanoma Skin Cancer Nevi and Moles', 'Nail Fungus and other Nail Disease', 'Poison Ivy Photos and other Contact Dermatitis', 'Psoriasis pictures Lichen Planus and related diseases', 'Scabies Lyme Disease and other Infestations and Bites', 'Seborrheic Keratoses and other Benign Tumors', 'Systemic Disease', 'Tinea Ringworm Candidiasis and other Fungal Infections', 'Urticaria Hives', 'Vascular Tumors', 'Vasculitis Photos', 'Warts Molluscum and other Viral Infections']\n"
     ]
    },
    {
     "name": "stderr",
     "output_type": "stream",
     "text": [
      "/tmp/ipykernel_249335/2489733449.py:84: FutureWarning: `torch.cuda.amp.GradScaler(args...)` is deprecated. Please use `torch.amp.GradScaler('cuda', args...)` instead.\n",
      "  scaler = torch.cuda.amp.GradScaler()\n"
     ]
    },
    {
     "name": "stdout",
     "output_type": "stream",
     "text": [
      "Loaded Swin-Tiny Transformer\n",
      "\n",
      "Epoch [1/40]\n"
     ]
    },
    {
     "name": "stderr",
     "output_type": "stream",
     "text": [
      "/tmp/ipykernel_249335/2489733449.py:97: FutureWarning: `torch.cuda.amp.autocast(args...)` is deprecated. Please use `torch.amp.autocast('cuda', args...)` instead.\n",
      "  with torch.cuda.amp.autocast():\n",
      "\n",
      "/tmp/ipykernel_249335/2489733449.py:118: FutureWarning: `torch.cuda.amp.autocast(args...)` is deprecated. Please use `torch.amp.autocast('cuda', args...)` instead.\n",
      "  with torch.cuda.amp.autocast():\n",
      "\n",
      "alidation: 100%|██████████| 63/63 [00:04<00:00, 14.23it/s]"
     ]
    },
    {
     "name": "stdout",
     "output_type": "stream",
     "text": [
      "Train Loss: 2.2737, Train Acc: 0.3295\n",
      "Val Loss: 1.8024, Val Acc: 0.4541\n",
      "\n",
      "Epoch [2/40]\n"
     ]
    },
    {
     "name": "stderr",
     "output_type": "stream",
     "text": [
      "\n",
      "\n",
      "alidation: 100%|██████████| 63/63 [00:04<00:00, 13.80it/s]"
     ]
    },
    {
     "name": "stdout",
     "output_type": "stream",
     "text": [
      "Train Loss: 1.6538, Train Acc: 0.4999\n",
      "Val Loss: 1.4024, Val Acc: 0.5765\n",
      "\n",
      "Epoch [3/40]\n"
     ]
    },
    {
     "name": "stderr",
     "output_type": "stream",
     "text": [
      "\n",
      "\n",
      "alidation: 100%|██████████| 63/63 [00:04<00:00, 13.82it/s]"
     ]
    },
    {
     "name": "stdout",
     "output_type": "stream",
     "text": [
      "Train Loss: 1.2591, Train Acc: 0.6146\n",
      "Val Loss: 1.1513, Val Acc: 0.6505\n",
      "\n",
      "Epoch [4/40]\n"
     ]
    },
    {
     "name": "stderr",
     "output_type": "stream",
     "text": [
      "\n",
      "\n",
      "alidation: 100%|██████████| 63/63 [00:04<00:00, 13.99it/s]"
     ]
    },
    {
     "name": "stdout",
     "output_type": "stream",
     "text": [
      "Train Loss: 0.9483, Train Acc: 0.7014\n",
      "Val Loss: 0.9945, Val Acc: 0.7046\n",
      "\n",
      "Epoch [5/40]\n"
     ]
    },
    {
     "name": "stderr",
     "output_type": "stream",
     "text": [
      "\n",
      "\n",
      "alidation: 100%|██████████| 63/63 [00:04<00:00, 13.51it/s]"
     ]
    },
    {
     "name": "stdout",
     "output_type": "stream",
     "text": [
      "Train Loss: 0.6787, Train Acc: 0.7904\n",
      "Val Loss: 0.8911, Val Acc: 0.7430\n",
      "\n",
      "Epoch [6/40]\n"
     ]
    },
    {
     "name": "stderr",
     "output_type": "stream",
     "text": [
      "\n",
      "\n",
      "alidation: 100%|██████████| 63/63 [00:04<00:00, 14.51it/s]"
     ]
    },
    {
     "name": "stdout",
     "output_type": "stream",
     "text": [
      "Train Loss: 0.5235, Train Acc: 0.8373\n",
      "Val Loss: 0.8300, Val Acc: 0.7764\n",
      "\n",
      "Epoch [7/40]\n"
     ]
    },
    {
     "name": "stderr",
     "output_type": "stream",
     "text": [
      "\n",
      "\n",
      "alidation: 100%|██████████| 63/63 [00:04<00:00, 14.37it/s]"
     ]
    },
    {
     "name": "stdout",
     "output_type": "stream",
     "text": [
      "Train Loss: 0.4210, Train Acc: 0.8665\n",
      "Val Loss: 0.8260, Val Acc: 0.7797\n",
      "\n",
      "Epoch [8/40]\n"
     ]
    },
    {
     "name": "stderr",
     "output_type": "stream",
     "text": [
      "\n",
      "\n",
      "alidation: 100%|██████████| 63/63 [00:04<00:00, 14.16it/s]"
     ]
    },
    {
     "name": "stdout",
     "output_type": "stream",
     "text": [
      "Train Loss: 0.3061, Train Acc: 0.9063\n",
      "Val Loss: 0.8683, Val Acc: 0.7871\n",
      "\n",
      "Epoch [9/40]\n"
     ]
    },
    {
     "name": "stderr",
     "output_type": "stream",
     "text": [
      "\n",
      "\n",
      "alidation: 100%|██████████| 63/63 [00:04<00:00, 13.72it/s]"
     ]
    },
    {
     "name": "stdout",
     "output_type": "stream",
     "text": [
      "Train Loss: 0.2632, Train Acc: 0.9154\n",
      "Val Loss: 0.8294, Val Acc: 0.7924\n",
      "\n",
      "Epoch [10/40]\n"
     ]
    },
    {
     "name": "stderr",
     "output_type": "stream",
     "text": [
      "\n",
      "\n",
      "alidation: 100%|██████████| 63/63 [00:04<00:00, 13.63it/s]"
     ]
    },
    {
     "name": "stdout",
     "output_type": "stream",
     "text": [
      "Train Loss: 0.2214, Train Acc: 0.9268\n",
      "Val Loss: 0.8647, Val Acc: 0.7944\n",
      "\n",
      "Epoch [11/40]\n"
     ]
    },
    {
     "name": "stderr",
     "output_type": "stream",
     "text": [
      "\n",
      "\n",
      "alidation: 100%|██████████| 63/63 [00:04<00:00, 13.74it/s]"
     ]
    },
    {
     "name": "stdout",
     "output_type": "stream",
     "text": [
      "Train Loss: 0.1945, Train Acc: 0.9369\n",
      "Val Loss: 0.8078, Val Acc: 0.8103\n",
      "\n",
      "Epoch [12/40]\n"
     ]
    },
    {
     "name": "stderr",
     "output_type": "stream",
     "text": [
      "\n",
      "\n",
      "alidation: 100%|██████████| 63/63 [00:04<00:00, 14.15it/s]"
     ]
    },
    {
     "name": "stdout",
     "output_type": "stream",
     "text": [
      "Train Loss: 0.1806, Train Acc: 0.9401\n",
      "Val Loss: 0.8563, Val Acc: 0.8043\n",
      "\n",
      "Epoch [13/40]\n"
     ]
    },
    {
     "name": "stderr",
     "output_type": "stream",
     "text": [
      "\n",
      "\n",
      "alidation: 100%|██████████| 63/63 [00:04<00:00, 13.89it/s]"
     ]
    },
    {
     "name": "stdout",
     "output_type": "stream",
     "text": [
      "Train Loss: 0.1655, Train Acc: 0.9443\n",
      "Val Loss: 0.8345, Val Acc: 0.8131\n",
      "\n",
      "Epoch [14/40]\n"
     ]
    },
    {
     "name": "stderr",
     "output_type": "stream",
     "text": [
      "\n",
      "\n",
      "alidation: 100%|██████████| 63/63 [00:04<00:00, 13.63it/s]"
     ]
    },
    {
     "name": "stdout",
     "output_type": "stream",
     "text": [
      "Train Loss: 0.1482, Train Acc: 0.9479\n",
      "Val Loss: 0.8572, Val Acc: 0.8111\n",
      "\n",
      "Epoch [15/40]\n"
     ]
    },
    {
     "name": "stderr",
     "output_type": "stream",
     "text": [
      "\n",
      "\n",
      "alidation: 100%|██████████| 63/63 [00:04<00:00, 14.03it/s]"
     ]
    },
    {
     "name": "stdout",
     "output_type": "stream",
     "text": [
      "Train Loss: 0.1435, Train Acc: 0.9499\n",
      "Val Loss: 0.8925, Val Acc: 0.8063\n",
      "\n",
      "Epoch [16/40]\n"
     ]
    },
    {
     "name": "stderr",
     "output_type": "stream",
     "text": [
      "\n",
      "\n",
      "alidation: 100%|██████████| 63/63 [00:04<00:00, 13.89it/s]"
     ]
    },
    {
     "name": "stdout",
     "output_type": "stream",
     "text": [
      "Train Loss: 0.1270, Train Acc: 0.9550\n",
      "Val Loss: 0.8827, Val Acc: 0.8098\n",
      "\n",
      "Epoch [17/40]\n"
     ]
    },
    {
     "name": "stderr",
     "output_type": "stream",
     "text": [
      "\n",
      "\n",
      "alidation: 100%|██████████| 63/63 [00:04<00:00, 13.88it/s]"
     ]
    },
    {
     "name": "stdout",
     "output_type": "stream",
     "text": [
      "Train Loss: 0.1188, Train Acc: 0.9569\n",
      "Val Loss: 0.8863, Val Acc: 0.8103\n",
      "\n",
      "Epoch [18/40]\n"
     ]
    },
    {
     "name": "stderr",
     "output_type": "stream",
     "text": [
      "\n",
      "\n",
      "alidation: 100%|██████████| 63/63 [00:04<00:00, 14.04it/s]"
     ]
    },
    {
     "name": "stdout",
     "output_type": "stream",
     "text": [
      "Train Loss: 0.1140, Train Acc: 0.9562\n",
      "Val Loss: 0.8748, Val Acc: 0.8156\n",
      "\n",
      "Epoch [19/40]\n"
     ]
    },
    {
     "name": "stderr",
     "output_type": "stream",
     "text": [
      "\n",
      "\n",
      "alidation: 100%|██████████| 63/63 [00:04<00:00, 13.85it/s]"
     ]
    },
    {
     "name": "stdout",
     "output_type": "stream",
     "text": [
      "Train Loss: 0.0979, Train Acc: 0.9640\n",
      "Val Loss: 0.8989, Val Acc: 0.8138\n",
      "\n",
      "Epoch [20/40]\n"
     ]
    },
    {
     "name": "stderr",
     "output_type": "stream",
     "text": [
      "\n",
      "\n",
      "alidation: 100%|██████████| 63/63 [00:04<00:00, 13.64it/s]"
     ]
    },
    {
     "name": "stdout",
     "output_type": "stream",
     "text": [
      "Train Loss: 0.0961, Train Acc: 0.9630\n",
      "Val Loss: 0.9301, Val Acc: 0.8156\n",
      "\n",
      "Epoch [21/40]\n"
     ]
    },
    {
     "name": "stderr",
     "output_type": "stream",
     "text": [
      "\n",
      "\n",
      "alidation: 100%|██████████| 63/63 [00:04<00:00, 14.00it/s]"
     ]
    },
    {
     "name": "stdout",
     "output_type": "stream",
     "text": [
      "Train Loss: 0.0914, Train Acc: 0.9634\n",
      "Val Loss: 0.9040, Val Acc: 0.8108\n",
      "\n",
      "Epoch [22/40]\n"
     ]
    },
    {
     "name": "stderr",
     "output_type": "stream",
     "text": [
      "\n",
      "\n",
      "alidation: 100%|██████████| 63/63 [00:04<00:00, 14.07it/s]"
     ]
    },
    {
     "name": "stdout",
     "output_type": "stream",
     "text": [
      "Train Loss: 0.0809, Train Acc: 0.9670\n",
      "Val Loss: 0.8737, Val Acc: 0.8225\n",
      "\n",
      "Epoch [23/40]\n"
     ]
    },
    {
     "name": "stderr",
     "output_type": "stream",
     "text": [
      "\n",
      "\n",
      "alidation: 100%|██████████| 63/63 [00:04<00:00, 13.88it/s]"
     ]
    },
    {
     "name": "stdout",
     "output_type": "stream",
     "text": [
      "Train Loss: 0.0729, Train Acc: 0.9693\n",
      "Val Loss: 0.9194, Val Acc: 0.8173\n",
      "\n",
      "Epoch [24/40]\n"
     ]
    },
    {
     "name": "stderr",
     "output_type": "stream",
     "text": [
      "\n",
      "\n",
      "alidation: 100%|██████████| 63/63 [00:04<00:00, 13.83it/s]"
     ]
    },
    {
     "name": "stdout",
     "output_type": "stream",
     "text": [
      "Train Loss: 0.0712, Train Acc: 0.9688\n",
      "Val Loss: 0.9205, Val Acc: 0.8185\n",
      "\n",
      "Epoch [25/40]\n"
     ]
    },
    {
     "name": "stderr",
     "output_type": "stream",
     "text": [
      "\n",
      "\n",
      "alidation: 100%|██████████| 63/63 [00:04<00:00, 14.09it/s]"
     ]
    },
    {
     "name": "stdout",
     "output_type": "stream",
     "text": [
      "Train Loss: 0.0699, Train Acc: 0.9683\n",
      "Val Loss: 0.9222, Val Acc: 0.8208\n",
      "\n",
      "Epoch [26/40]\n"
     ]
    },
    {
     "name": "stderr",
     "output_type": "stream",
     "text": [
      "\n",
      "\n",
      "alidation: 100%|██████████| 63/63 [00:04<00:00, 13.70it/s]"
     ]
    },
    {
     "name": "stdout",
     "output_type": "stream",
     "text": [
      "Train Loss: 0.0700, Train Acc: 0.9682\n",
      "Val Loss: 0.9120, Val Acc: 0.8248\n",
      "\n",
      "Epoch [27/40]\n"
     ]
    },
    {
     "name": "stderr",
     "output_type": "stream",
     "text": [
      "\n",
      "\n",
      "alidation: 100%|██████████| 63/63 [00:04<00:00, 13.42it/s]"
     ]
    },
    {
     "name": "stdout",
     "output_type": "stream",
     "text": [
      "Train Loss: 0.0650, Train Acc: 0.9696\n",
      "Val Loss: 0.9214, Val Acc: 0.8188\n",
      "\n",
      "Epoch [28/40]\n"
     ]
    },
    {
     "name": "stderr",
     "output_type": "stream",
     "text": [
      "\n",
      "\n",
      "alidation: 100%|██████████| 63/63 [00:04<00:00, 14.38it/s]"
     ]
    },
    {
     "name": "stdout",
     "output_type": "stream",
     "text": [
      "Train Loss: 0.0577, Train Acc: 0.9729\n",
      "Val Loss: 0.9154, Val Acc: 0.8195\n",
      "\n",
      "Epoch [29/40]\n"
     ]
    },
    {
     "name": "stderr",
     "output_type": "stream",
     "text": [
      "\n",
      "\n",
      "alidation: 100%|██████████| 63/63 [00:04<00:00, 13.29it/s]"
     ]
    },
    {
     "name": "stdout",
     "output_type": "stream",
     "text": [
      "Train Loss: 0.0595, Train Acc: 0.9711\n",
      "Val Loss: 0.9368, Val Acc: 0.8235\n",
      "\n",
      "Epoch [30/40]\n"
     ]
    },
    {
     "name": "stderr",
     "output_type": "stream",
     "text": [
      "\n",
      "\n",
      "alidation: 100%|██████████| 63/63 [00:04<00:00, 14.00it/s]"
     ]
    },
    {
     "name": "stdout",
     "output_type": "stream",
     "text": [
      "Train Loss: 0.0540, Train Acc: 0.9740\n",
      "Val Loss: 0.9309, Val Acc: 0.8275\n",
      "\n",
      "Epoch [31/40]\n"
     ]
    },
    {
     "name": "stderr",
     "output_type": "stream",
     "text": [
      "\n",
      "\n",
      "alidation: 100%|██████████| 63/63 [00:04<00:00, 14.15it/s]"
     ]
    },
    {
     "name": "stdout",
     "output_type": "stream",
     "text": [
      "Train Loss: 0.0526, Train Acc: 0.9739\n",
      "Val Loss: 0.9281, Val Acc: 0.8260\n",
      "\n",
      "Epoch [32/40]\n"
     ]
    },
    {
     "name": "stderr",
     "output_type": "stream",
     "text": [
      "\n",
      "\n",
      "alidation: 100%|██████████| 63/63 [00:04<00:00, 14.11it/s]"
     ]
    },
    {
     "name": "stdout",
     "output_type": "stream",
     "text": [
      "Train Loss: 0.0512, Train Acc: 0.9739\n",
      "Val Loss: 0.9426, Val Acc: 0.8293\n",
      "\n",
      "Epoch [33/40]\n"
     ]
    },
    {
     "name": "stderr",
     "output_type": "stream",
     "text": [
      "\n",
      "\n",
      "alidation: 100%|██████████| 63/63 [00:04<00:00, 13.59it/s]"
     ]
    },
    {
     "name": "stdout",
     "output_type": "stream",
     "text": [
      "Train Loss: 0.0466, Train Acc: 0.9762\n",
      "Val Loss: 0.9438, Val Acc: 0.8290\n",
      "\n",
      "Epoch [34/40]\n"
     ]
    },
    {
     "name": "stderr",
     "output_type": "stream",
     "text": [
      "\n",
      "\n",
      "alidation: 100%|██████████| 63/63 [00:04<00:00, 13.47it/s]"
     ]
    },
    {
     "name": "stdout",
     "output_type": "stream",
     "text": [
      "Train Loss: 0.0506, Train Acc: 0.9737\n",
      "Val Loss: 0.9467, Val Acc: 0.8275\n",
      "\n",
      "Epoch [35/40]\n"
     ]
    },
    {
     "name": "stderr",
     "output_type": "stream",
     "text": [
      "\n",
      "\n",
      "alidation: 100%|██████████| 63/63 [00:04<00:00, 13.77it/s]"
     ]
    },
    {
     "name": "stdout",
     "output_type": "stream",
     "text": [
      "Train Loss: 0.0467, Train Acc: 0.9781\n",
      "Val Loss: 0.9458, Val Acc: 0.8288\n",
      "\n",
      "Epoch [36/40]\n"
     ]
    },
    {
     "name": "stderr",
     "output_type": "stream",
     "text": [
      "\n",
      "\n",
      "alidation: 100%|██████████| 63/63 [00:04<00:00, 14.08it/s]"
     ]
    },
    {
     "name": "stdout",
     "output_type": "stream",
     "text": [
      "Train Loss: 0.0441, Train Acc: 0.9766\n",
      "Val Loss: 0.9448, Val Acc: 0.8278\n",
      "\n",
      "Epoch [37/40]\n"
     ]
    },
    {
     "name": "stderr",
     "output_type": "stream",
     "text": [
      "\n",
      "\n",
      "alidation: 100%|██████████| 63/63 [00:04<00:00, 13.55it/s]"
     ]
    },
    {
     "name": "stdout",
     "output_type": "stream",
     "text": [
      "Train Loss: 0.0449, Train Acc: 0.9776\n",
      "Val Loss: 0.9421, Val Acc: 0.8265\n",
      "\n",
      "Epoch [38/40]\n"
     ]
    },
    {
     "name": "stderr",
     "output_type": "stream",
     "text": [
      "\n",
      "\n",
      "alidation: 100%|██████████| 63/63 [00:04<00:00, 14.41it/s]"
     ]
    },
    {
     "name": "stdout",
     "output_type": "stream",
     "text": [
      "Train Loss: 0.0442, Train Acc: 0.9788\n",
      "Val Loss: 0.9426, Val Acc: 0.8288\n",
      "\n",
      "Epoch [39/40]\n"
     ]
    },
    {
     "name": "stderr",
     "output_type": "stream",
     "text": [
      "\n",
      "\n",
      "alidation: 100%|██████████| 63/63 [00:04<00:00, 14.11it/s]"
     ]
    },
    {
     "name": "stdout",
     "output_type": "stream",
     "text": [
      "Train Loss: 0.0435, Train Acc: 0.9771\n",
      "Val Loss: 0.9443, Val Acc: 0.8283\n",
      "\n",
      "Epoch [40/40]\n"
     ]
    },
    {
     "name": "stderr",
     "output_type": "stream",
     "text": [
      "\n",
      "\n",
      "alidation: 100%|██████████| 63/63 [00:04<00:00, 13.80it/s]"
     ]
    },
    {
     "name": "stdout",
     "output_type": "stream",
     "text": [
      "Train Loss: 0.0441, Train Acc: 0.9770\n",
      "Val Loss: 0.9438, Val Acc: 0.8280\n"
     ]
    },
    {
     "data": {
      "image/png": "[encoded data removed]",
      "text/plain": [
       "<Figure size 800x600 with 1 Axes>"
      ]
     },
     "metadata": {},
     "output_type": "display_data"
    },
    {
     "data": {
      "image/png": "[encoded data removed]",
      "text/plain": [
       "<Figure size 800x600 with 1 Axes>"
      ]
     },
     "metadata": {},
     "output_type": "display_data"
    },
    {
     "name": "stderr",
     "output_type": "stream",
     "text": [
      "Testing: 100%|██████████| 63/63 [00:04<00:00, 13.08it/s]"
     ]
    },
    {
     "name": "stdout",
     "output_type": "stream",
     "text": [
      "\n",
      "✅ Final Test Accuracy: 72.14%\n"
     ]
    },
    {
     "name": "stderr",
     "output_type": "stream",
     "text": [
      "\n"
     ]
    }
   ],
   "source": [
    "# =========================================================\n",
    "# Swin Tiny Transformer on DermNet (23 classes)\n",
    "# =========================================================\n",
    "\n",
    "import os\n",
    "import torch\n",
    "import torch.nn as nn\n",
    "import torch.optim as optim\n",
    "from torch.utils.data import DataLoader\n",
    "from torchvision import datasets, transforms\n",
    "from torch.optim.lr_scheduler import CosineAnnealingLR\n",
    "from tqdm import tqdm\n",
    "import matplotlib.pyplot as plt\n",
    "import pandas as pd\n",
    "import timm\n",
    "\n",
    "# -------------------------\n",
    "# ✅ Device setup\n",
    "# -------------------------\n",
    "device = torch.device(\"cuda\" if torch.cuda.is_available() else \"cpu\")\n",
    "print(\"Using device:\", device)\n",
    "\n",
    "# -------------------------\n",
    "# ✅ Dataset paths\n",
    "# -------------------------\n",
    "DATA_ROOT = \"dataset/\"  # contains train/, val/, test/\n",
    "\n",
    "# -------------------------\n",
    "# ✅ Transforms\n",
    "# -------------------------\n",
    "IMG_SIZE = 224\n",
    "mean = [0.485, 0.456, 0.406]\n",
    "std  = [0.229, 0.224, 0.225]\n",
    "\n",
    "train_transform = transforms.Compose([\n",
    "    transforms.Resize((IMG_SIZE, IMG_SIZE)),\n",
    "    transforms.RandomHorizontalFlip(),\n",
    "    transforms.RandomRotation(15),\n",
    "    transforms.ColorJitter(brightness=0.2, contrast=0.2, saturation=0.2),\n",
    "    transforms.ToTensor(),\n",
    "    transforms.Normalize(mean, std)\n",
    "])\n",
    "\n",
    "val_test_transform = transforms.Compose([\n",
    "    transforms.Resize((IMG_SIZE, IMG_SIZE)),\n",
    "    transforms.ToTensor(),\n",
    "    transforms.Normalize(mean, std)\n",
    "])\n",
    "\n",
    "# -------------------------\n",
    "# ✅ Load datasets\n",
    "# -------------------------\n",
    "train_ds = datasets.ImageFolder(os.path.join(DATA_ROOT, \"train\"), transform=train_transform)\n",
    "val_ds   = datasets.ImageFolder(os.path.join(DATA_ROOT, \"val\"), transform=val_test_transform)\n",
    "test_ds  = datasets.ImageFolder(os.path.join(DATA_ROOT, \"test\"), transform=val_test_transform)\n",
    "\n",
    "BATCH_SIZE = 64\n",
    "train_loader = DataLoader(train_ds, batch_size=BATCH_SIZE, shuffle=True, num_workers=4, pin_memory=True)\n",
    "val_loader   = DataLoader(val_ds, batch_size=BATCH_SIZE, shuffle=False, num_workers=4, pin_memory=True)\n",
    "test_loader  = DataLoader(test_ds, batch_size=BATCH_SIZE, shuffle=False, num_workers=4, pin_memory=True)\n",
    "\n",
    "print(f\"Train: {len(train_ds)} | Val: {len(val_ds)} | Test: {len(test_ds)}\")\n",
    "print(\"Classes:\", train_ds.classes)\n",
    "\n",
    "# -------------------------\n",
    "# ✅ Swin Tiny Model\n",
    "# -------------------------\n",
    "NUM_CLASSES = len(train_ds.classes)\n",
    "model = timm.create_model(\"swin_tiny_patch4_window7_224\", pretrained=True, num_classes=NUM_CLASSES)\n",
    "model = model.to(device)\n",
    "print(\"Loaded Swin-Tiny Transformer\")\n",
    "\n",
    "# -------------------------\n",
    "# ✅ Loss, Optimizer, Scheduler\n",
    "# -------------------------\n",
    "criterion = nn.CrossEntropyLoss()\n",
    "optimizer = optim.AdamW(model.parameters(), lr=1e-4, weight_decay=1e-4)\n",
    "num_epochs = 40\n",
    "scheduler = CosineAnnealingLR(optimizer, T_max=num_epochs)\n",
    "\n",
    "# -------------------------\n",
    "# ✅ Training Loop\n",
    "# -------------------------\n",
    "scaler = torch.cuda.amp.GradScaler()\n",
    "history = {\"epoch\": [], \"train_loss\": [], \"train_acc\": [], \"val_loss\": [], \"val_acc\": []}\n",
    "\n",
    "for epoch in range(num_epochs):\n",
    "    print(f\"\\nEpoch [{epoch+1}/{num_epochs}]\")\n",
    "    \n",
    "    # ---- Training ----\n",
    "    model.train()\n",
    "    train_loss, train_correct = 0.0, 0\n",
    "    for inputs, labels in tqdm(train_loader, desc=\"Training\"):\n",
    "        inputs, labels = inputs.to(device), labels.to(device)\n",
    "        optimizer.zero_grad()\n",
    "\n",
    "        with torch.cuda.amp.autocast():\n",
    "            outputs = model(inputs)\n",
    "            loss = criterion(outputs, labels)\n",
    "\n",
    "        scaler.scale(loss).backward()\n",
    "        scaler.step(optimizer)\n",
    "        scaler.update()\n",
    "\n",
    "        _, preds = torch.max(outputs, 1)\n",
    "        train_loss += loss.item() * inputs.size(0)\n",
    "        train_correct += torch.sum(preds == labels.data)\n",
    "\n",
    "    epoch_train_loss = train_loss / len(train_loader.dataset)\n",
    "    epoch_train_acc = train_correct.double() / len(train_loader.dataset)\n",
    "\n",
    "    # ---- Validation ----\n",
    "    model.eval()\n",
    "    val_loss, val_correct = 0.0, 0\n",
    "    with torch.no_grad():\n",
    "        for inputs, labels in tqdm(val_loader, desc=\"Validation\"):\n",
    "            inputs, labels = inputs.to(device), labels.to(device)\n",
    "            with torch.cuda.amp.autocast():\n",
    "                outputs = model(inputs)\n",
    "                loss = criterion(outputs, labels)\n",
    "\n",
    "            _, preds = torch.max(outputs, 1)\n",
    "            val_loss += loss.item() * inputs.size(0)\n",
    "            val_correct += torch.sum(preds == labels.data)\n",
    "\n",
    "    epoch_val_loss = val_loss / len(val_loader.dataset)\n",
    "    epoch_val_acc = val_correct.double() / len(val_loader.dataset)\n",
    "\n",
    "    # ---- Scheduler Step ----\n",
    "    scheduler.step()\n",
    "\n",
    "    # ---- Save history ----\n",
    "    history[\"epoch\"].append(epoch+1)\n",
    "    history[\"train_loss\"].append(epoch_train_loss)\n",
    "    history[\"train_acc\"].append(epoch_train_acc.item())\n",
    "    history[\"val_loss\"].append(epoch_val_loss)\n",
    "    history[\"val_acc\"].append(epoch_val_acc.item())\n",
    "\n",
    "    print(f\"Train Loss: {epoch_train_loss:.4f}, Train Acc: {epoch_train_acc:.4f}\")\n",
    "    print(f\"Val Loss: {epoch_val_loss:.4f}, Val Acc: {epoch_val_acc:.4f}\")\n",
    "\n",
    "# -------------------------\n",
    "# ✅ Plot Training Curves\n",
    "#---------------------\n",
    "# ✅ Plot Training & Validation Loss\n",
    "plt.figure(figsize=(8, 6))\n",
    "plt.plot(history[\"epoch\"], history[\"train_loss\"], label=\"Train Loss\", marker=\"o\")\n",
    "plt.plot(history[\"epoch\"], history[\"val_loss\"], label=\"Val Loss\", marker=\"o\")\n",
    "plt.xlabel(\"Epochs\")\n",
    "plt.ylabel(\"Loss\")\n",
    "plt.title(\"Training vs Validation Loss (Swin-Tiny)\")\n",
    "plt.legend()\n",
    "plt.grid(True)\n",
    "plt.show()\n",
    "\n",
    "# ✅ Plot Training & Validation Accuracy\n",
    "plt.figure(figsize=(8, 6))\n",
    "plt.plot(history[\"epoch\"], history[\"train_acc\"], label=\"Train Accuracy\", marker=\"s\")\n",
    "plt.plot(history[\"epoch\"], history[\"val_acc\"], label=\"Val Accuracy\", marker=\"s\")\n",
    "plt.xlabel(\"Epochs\")\n",
    "plt.ylabel(\"Accuracy\")\n",
    "plt.title(\"Training vs Validation Accuracy (Swin-Tiny)\")\n",
    "plt.legend()\n",
    "plt.grid(True)\n",
    "plt.show()\n",
    "\n",
    "# ✅ Test Accuracy\n",
    "# -------------------------\n",
    "model.eval()\n",
    "test_correct, test_total = 0, 0\n",
    "with torch.no_grad():\n",
    "    for inputs, labels in tqdm(test_loader, desc=\"Testing\"):\n",
    "        inputs, labels = inputs.to(device), labels.to(device)\n",
    "        outputs = model(inputs)\n",
    "        _, preds = torch.max(outputs, 1)\n",
    "        test_correct += torch.sum(preds == labels).item()\n",
    "        test_total += labels.size(0)\n",
    "\n",
    "test_acc = test_correct / test_total\n",
    "print(f\"\\n✅ Final Test Accuracy: {test_acc*100:.2f}%\")\n"
   ]
  },
  {
   "cell_type": "code",
   "execution_count": 2,
   "id": "730e8aa3-1a87-4104-9d8c-fda5c2541237",
   "metadata": {},
   "outputs": [
    {
     "name": "stdout",
     "output_type": "stream",
     "text": [
      "Using device: cuda\n",
      "Train: 14450 | Val: 3893 | Test: 1976\n",
      "Classes: ['Acne and Rosacea Photos', 'Actinic Keratosis Basal Cell Carcinoma and other Malignant Lesions', 'Atopic Dermatitis Photos', 'Bullous Disease Photos', 'Cellulitis Impetigo and other Bacterial Infections', 'Eczema Photos', 'Exanthems and Drug Eruptions', 'Hair Loss Photos Alopecia and other Hair Diseases', 'Herpes HPV and other STDs Photos', 'Light Diseases and Disorders of Pigmentation', 'Lupus and other Connective Tissue diseases', 'Melanoma Skin Cancer Nevi and Moles', 'Nail Fungus and other Nail Disease', 'Poison Ivy Photos and other Contact Dermatitis', 'Psoriasis pictures Lichen Planus and related diseases', 'Scabies Lyme Disease and other Infestations and Bites', 'Seborrheic Keratoses and other Benign Tumors', 'Systemic Disease', 'Tinea Ringworm Candidiasis and other Fungal Infections', 'Urticaria Hives', 'Vascular Tumors', 'Vasculitis Photos', 'Warts Molluscum and other Viral Infections']\n"
     ]
    },
    {
     "name": "stderr",
     "output_type": "stream",
     "text": [
      "/tmp/ipykernel_409447/926492951.py:84: FutureWarning: `torch.cuda.amp.GradScaler(args...)` is deprecated. Please use `torch.amp.GradScaler('cuda', args...)` instead.\n",
      "  scaler = torch.cuda.amp.GradScaler()\n"
     ]
    },
    {
     "name": "stdout",
     "output_type": "stream",
     "text": [
      "Loaded Swin-Tiny Transformer\n",
      "\n",
      "Epoch [1/25]\n"
     ]
    },
    {
     "name": "stderr",
     "output_type": "stream",
     "text": [
      "/tmp/ipykernel_409447/926492951.py:97: FutureWarning: `torch.cuda.amp.autocast(args...)` is deprecated. Please use `torch.amp.autocast('cuda', args...)` instead.\n",
      "  with torch.cuda.amp.autocast():\n",
      "\n",
      "/tmp/ipykernel_409447/926492951.py:118: FutureWarning: `torch.cuda.amp.autocast(args...)` is deprecated. Please use `torch.amp.autocast('cuda', args...)` instead.\n",
      "  with torch.cuda.amp.autocast():\n",
      "\n",
      "alidation: 100%|██████████| 61/61 [00:25<00:00,  2.41it/s]"
     ]
    },
    {
     "name": "stdout",
     "output_type": "stream",
     "text": [
      "Train Loss: 2.2513, Train Acc: 0.3390\n",
      "Val Loss: 1.8415, Val Acc: 0.4521\n",
      "\n",
      "Epoch [2/25]\n"
     ]
    },
    {
     "name": "stderr",
     "output_type": "stream",
     "text": [
      "\n",
      "\n",
      "alidation: 100%|██████████| 61/61 [00:30<00:00,  2.02it/s]"
     ]
    },
    {
     "name": "stdout",
     "output_type": "stream",
     "text": [
      "Train Loss: 1.5869, Train Acc: 0.5181\n",
      "Val Loss: 1.5374, Val Acc: 0.5412\n",
      "\n",
      "Epoch [3/25]\n"
     ]
    },
    {
     "name": "stderr",
     "output_type": "stream",
     "text": [
      "\n",
      "\n",
      "alidation: 100%|██████████| 61/61 [00:23<00:00,  2.57it/s]"
     ]
    },
    {
     "name": "stdout",
     "output_type": "stream",
     "text": [
      "Train Loss: 1.1865, Train Acc: 0.6338\n",
      "Val Loss: 1.4366, Val Acc: 0.5739\n",
      "\n",
      "Epoch [4/25]\n"
     ]
    },
    {
     "name": "stderr",
     "output_type": "stream",
     "text": [
      "\n",
      "\n",
      "alidation: 100%|██████████| 61/61 [00:26<00:00,  2.30it/s]"
     ]
    },
    {
     "name": "stdout",
     "output_type": "stream",
     "text": [
      "Train Loss: 0.8633, Train Acc: 0.7332\n",
      "Val Loss: 1.3836, Val Acc: 0.6052\n",
      "\n",
      "Epoch [5/25]\n"
     ]
    },
    {
     "name": "stderr",
     "output_type": "stream",
     "text": [
      "\n",
      "\n",
      "alidation: 100%|██████████| 61/61 [00:27<00:00,  2.19it/s]"
     ]
    },
    {
     "name": "stdout",
     "output_type": "stream",
     "text": [
      "Train Loss: 0.6247, Train Acc: 0.8073\n",
      "Val Loss: 1.3486, Val Acc: 0.6263\n",
      "\n",
      "Epoch [6/25]\n"
     ]
    },
    {
     "name": "stderr",
     "output_type": "stream",
     "text": [
      "\n",
      "\n",
      "alidation: 100%|██████████| 61/61 [00:27<00:00,  2.19it/s]"
     ]
    },
    {
     "name": "stdout",
     "output_type": "stream",
     "text": [
      "Train Loss: 0.4620, Train Acc: 0.8575\n",
      "Val Loss: 1.3251, Val Acc: 0.6465\n",
      "\n",
      "Epoch [7/25]\n"
     ]
    },
    {
     "name": "stderr",
     "output_type": "stream",
     "text": [
      "\n",
      "\n",
      "alidation: 100%|██████████| 61/61 [00:38<00:00,  1.59it/s]"
     ]
    },
    {
     "name": "stdout",
     "output_type": "stream",
     "text": [
      "Train Loss: 0.3411, Train Acc: 0.8970\n",
      "Val Loss: 1.3419, Val Acc: 0.6586\n",
      "\n",
      "Epoch [8/25]\n"
     ]
    },
    {
     "name": "stderr",
     "output_type": "stream",
     "text": [
      "\n",
      "\n",
      "alidation: 100%|██████████| 61/61 [00:25<00:00,  2.37it/s]"
     ]
    },
    {
     "name": "stdout",
     "output_type": "stream",
     "text": [
      "Train Loss: 0.2671, Train Acc: 0.9152\n",
      "Val Loss: 1.3387, Val Acc: 0.6694\n",
      "\n",
      "Epoch [9/25]\n"
     ]
    },
    {
     "name": "stderr",
     "output_type": "stream",
     "text": [
      "\n",
      "\n",
      "alidation: 100%|██████████| 61/61 [00:26<00:00,  2.28it/s]"
     ]
    },
    {
     "name": "stdout",
     "output_type": "stream",
     "text": [
      "Train Loss: 0.2227, Train Acc: 0.9325\n",
      "Val Loss: 1.4262, Val Acc: 0.6640\n",
      "\n",
      "Epoch [10/25]\n"
     ]
    },
    {
     "name": "stderr",
     "output_type": "stream",
     "text": [
      "\n",
      "\n",
      "alidation: 100%|██████████| 61/61 [00:28<00:00,  2.15it/s]"
     ]
    },
    {
     "name": "stdout",
     "output_type": "stream",
     "text": [
      "Train Loss: 0.1822, Train Acc: 0.9426\n",
      "Val Loss: 1.4195, Val Acc: 0.6661\n",
      "\n",
      "Epoch [11/25]\n"
     ]
    },
    {
     "name": "stderr",
     "output_type": "stream",
     "text": [
      "\n",
      "\n",
      "alidation: 100%|██████████| 61/61 [00:25<00:00,  2.42it/s]"
     ]
    },
    {
     "name": "stdout",
     "output_type": "stream",
     "text": [
      "Train Loss: 0.1688, Train Acc: 0.9462\n",
      "Val Loss: 1.4727, Val Acc: 0.6697\n",
      "\n",
      "Epoch [12/25]\n"
     ]
    },
    {
     "name": "stderr",
     "output_type": "stream",
     "text": [
      "\n",
      "\n",
      "alidation: 100%|██████████| 61/61 [00:25<00:00,  2.40it/s]"
     ]
    },
    {
     "name": "stdout",
     "output_type": "stream",
     "text": [
      "Train Loss: 0.1437, Train Acc: 0.9524\n",
      "Val Loss: 1.4521, Val Acc: 0.6815\n",
      "\n",
      "Epoch [13/25]\n"
     ]
    },
    {
     "name": "stderr",
     "output_type": "stream",
     "text": [
      "\n",
      "\n",
      "alidation: 100%|██████████| 61/61 [00:35<00:00,  1.71it/s]"
     ]
    },
    {
     "name": "stdout",
     "output_type": "stream",
     "text": [
      "Train Loss: 0.1291, Train Acc: 0.9581\n",
      "Val Loss: 1.4693, Val Acc: 0.6897\n",
      "\n",
      "Epoch [14/25]\n"
     ]
    },
    {
     "name": "stderr",
     "output_type": "stream",
     "text": [
      "\n",
      "\n",
      "alidation: 100%|██████████| 61/61 [00:26<00:00,  2.29it/s]"
     ]
    },
    {
     "name": "stdout",
     "output_type": "stream",
     "text": [
      "Train Loss: 0.1134, Train Acc: 0.9616\n",
      "Val Loss: 1.4999, Val Acc: 0.6838\n",
      "\n",
      "Epoch [15/25]\n"
     ]
    },
    {
     "name": "stderr",
     "output_type": "stream",
     "text": [
      "\n",
      "\n",
      "alidation: 100%|██████████| 61/61 [00:25<00:00,  2.37it/s]"
     ]
    },
    {
     "name": "stdout",
     "output_type": "stream",
     "text": [
      "Train Loss: 0.0978, Train Acc: 0.9654\n",
      "Val Loss: 1.5213, Val Acc: 0.6864\n",
      "\n",
      "Epoch [16/25]\n"
     ]
    },
    {
     "name": "stderr",
     "output_type": "stream",
     "text": [
      "\n",
      "\n",
      "alidation: 100%|██████████| 61/61 [00:23<00:00,  2.62it/s]"
     ]
    },
    {
     "name": "stdout",
     "output_type": "stream",
     "text": [
      "Train Loss: 0.0898, Train Acc: 0.9688\n",
      "Val Loss: 1.5056, Val Acc: 0.6879\n",
      "\n",
      "Epoch [17/25]\n"
     ]
    },
    {
     "name": "stderr",
     "output_type": "stream",
     "text": [
      "\n",
      "\n",
      "alidation: 100%|██████████| 61/61 [00:24<00:00,  2.48it/s]"
     ]
    },
    {
     "name": "stdout",
     "output_type": "stream",
     "text": [
      "Train Loss: 0.0824, Train Acc: 0.9704\n",
      "Val Loss: 1.5005, Val Acc: 0.6938\n",
      "\n",
      "Epoch [18/25]\n"
     ]
    },
    {
     "name": "stderr",
     "output_type": "stream",
     "text": [
      "\n",
      "\n",
      "alidation: 100%|██████████| 61/61 [00:22<00:00,  2.68it/s]"
     ]
    },
    {
     "name": "stdout",
     "output_type": "stream",
     "text": [
      "Train Loss: 0.0754, Train Acc: 0.9704\n",
      "Val Loss: 1.5592, Val Acc: 0.6825\n",
      "\n",
      "Epoch [19/25]\n"
     ]
    },
    {
     "name": "stderr",
     "output_type": "stream",
     "text": [
      "\n",
      "\n",
      "alidation: 100%|██████████| 61/61 [00:23<00:00,  2.55it/s]"
     ]
    },
    {
     "name": "stdout",
     "output_type": "stream",
     "text": [
      "Train Loss: 0.0669, Train Acc: 0.9752\n",
      "Val Loss: 1.5418, Val Acc: 0.6938\n",
      "\n",
      "Epoch [20/25]\n"
     ]
    },
    {
     "name": "stderr",
     "output_type": "stream",
     "text": [
      "\n",
      "\n",
      "alidation: 100%|██████████| 61/61 [00:34<00:00,  1.77it/s]"
     ]
    },
    {
     "name": "stdout",
     "output_type": "stream",
     "text": [
      "Train Loss: 0.0665, Train Acc: 0.9725\n",
      "Val Loss: 1.5230, Val Acc: 0.6943\n",
      "\n",
      "Epoch [21/25]\n"
     ]
    },
    {
     "name": "stderr",
     "output_type": "stream",
     "text": [
      "\n",
      "\n",
      "alidation: 100%|██████████| 61/61 [00:21<00:00,  2.80it/s]"
     ]
    },
    {
     "name": "stdout",
     "output_type": "stream",
     "text": [
      "Train Loss: 0.0633, Train Acc: 0.9747\n",
      "Val Loss: 1.5325, Val Acc: 0.6995\n",
      "\n",
      "Epoch [22/25]\n"
     ]
    },
    {
     "name": "stderr",
     "output_type": "stream",
     "text": [
      "\n",
      "\n",
      "alidation: 100%|██████████| 61/61 [00:22<00:00,  2.71it/s]"
     ]
    },
    {
     "name": "stdout",
     "output_type": "stream",
     "text": [
      "Train Loss: 0.0564, Train Acc: 0.9767\n",
      "Val Loss: 1.5422, Val Acc: 0.6989\n",
      "\n",
      "Epoch [23/25]\n"
     ]
    },
    {
     "name": "stderr",
     "output_type": "stream",
     "text": [
      "\n",
      "raining:  54%|█████▍    | 122/226 [00:50<00:42,  2.43it/s]"
     ]
    },
    {
     "ename": "KeyboardInterrupt",
     "evalue": "",
     "output_type": "error",
     "traceback": [
      "\u001b[31m---------------------------------------------------------------------------\u001b[39m",
      "\u001b[31mKeyboardInterrupt\u001b[39m                         Traceback (most recent call last)",
      "\u001b[36mCell\u001b[39m\u001b[36m \u001b[39m\u001b[32mIn[2]\u001b[39m\u001b[32m, line 102\u001b[39m\n\u001b[32m     99\u001b[39m     loss = criterion(outputs, labels)\n\u001b[32m    101\u001b[39m scaler.scale(loss).backward()\n\u001b[32m--> \u001b[39m\u001b[32m102\u001b[39m \u001b[43mscaler\u001b[49m\u001b[43m.\u001b[49m\u001b[43mstep\u001b[49m\u001b[43m(\u001b[49m\u001b[43moptimizer\u001b[49m\u001b[43m)\u001b[49m\n\u001b[32m    103\u001b[39m scaler.update()\n\u001b[32m    105\u001b[39m _, preds = torch.max(outputs, \u001b[32m1\u001b[39m)\n",
      "\u001b[36mFile \u001b[39m\u001b[32m/workspace/3c17/swin_env/lib/python3.12/site-packages/torch/amp/grad_scaler.py:465\u001b[39m, in \u001b[36mGradScaler.step\u001b[39m\u001b[34m(self, optimizer, *args, **kwargs)\u001b[39m\n\u001b[32m    459\u001b[39m     \u001b[38;5;28mself\u001b[39m.unscale_(optimizer)\n\u001b[32m    461\u001b[39m \u001b[38;5;28;01massert\u001b[39;00m (\n\u001b[32m    462\u001b[39m     \u001b[38;5;28mlen\u001b[39m(optimizer_state[\u001b[33m\"\u001b[39m\u001b[33mfound_inf_per_device\u001b[39m\u001b[33m\"\u001b[39m]) > \u001b[32m0\u001b[39m\n\u001b[32m    463\u001b[39m ), \u001b[33m\"\u001b[39m\u001b[33mNo inf checks were recorded for this optimizer.\u001b[39m\u001b[33m\"\u001b[39m\n\u001b[32m--> \u001b[39m\u001b[32m465\u001b[39m retval = \u001b[38;5;28;43mself\u001b[39;49m\u001b[43m.\u001b[49m\u001b[43m_maybe_opt_step\u001b[49m\u001b[43m(\u001b[49m\u001b[43moptimizer\u001b[49m\u001b[43m,\u001b[49m\u001b[43m \u001b[49m\u001b[43moptimizer_state\u001b[49m\u001b[43m,\u001b[49m\u001b[43m \u001b[49m\u001b[43m*\u001b[49m\u001b[43margs\u001b[49m\u001b[43m,\u001b[49m\u001b[43m \u001b[49m\u001b[43m*\u001b[49m\u001b[43m*\u001b[49m\u001b[43mkwargs\u001b[49m\u001b[43m)\u001b[49m\n\u001b[32m    467\u001b[39m optimizer_state[\u001b[33m\"\u001b[39m\u001b[33mstage\u001b[39m\u001b[33m\"\u001b[39m] = OptState.STEPPED\n\u001b[32m    469\u001b[39m \u001b[38;5;28;01mreturn\u001b[39;00m retval\n",
      "\u001b[36mFile \u001b[39m\u001b[32m/workspace/3c17/swin_env/lib/python3.12/site-packages/torch/amp/grad_scaler.py:359\u001b[39m, in \u001b[36mGradScaler._maybe_opt_step\u001b[39m\u001b[34m(self, optimizer, optimizer_state, *args, **kwargs)\u001b[39m\n\u001b[32m    351\u001b[39m \u001b[38;5;28;01mdef\u001b[39;00m\u001b[38;5;250m \u001b[39m\u001b[34m_maybe_opt_step\u001b[39m(\n\u001b[32m    352\u001b[39m     \u001b[38;5;28mself\u001b[39m,\n\u001b[32m    353\u001b[39m     optimizer: torch.optim.Optimizer,\n\u001b[32m   (...)\u001b[39m\u001b[32m    356\u001b[39m     **kwargs: Any,\n\u001b[32m    357\u001b[39m ) -> Optional[\u001b[38;5;28mfloat\u001b[39m]:\n\u001b[32m    358\u001b[39m     retval: Optional[\u001b[38;5;28mfloat\u001b[39m] = \u001b[38;5;28;01mNone\u001b[39;00m\n\u001b[32m--> \u001b[39m\u001b[32m359\u001b[39m     \u001b[38;5;28;01mif\u001b[39;00m \u001b[38;5;129;01mnot\u001b[39;00m \u001b[38;5;28;43msum\u001b[39;49m\u001b[43m(\u001b[49m\u001b[43mv\u001b[49m\u001b[43m.\u001b[49m\u001b[43mitem\u001b[49m\u001b[43m(\u001b[49m\u001b[43m)\u001b[49m\u001b[43m \u001b[49m\u001b[38;5;28;43;01mfor\u001b[39;49;00m\u001b[43m \u001b[49m\u001b[43mv\u001b[49m\u001b[43m \u001b[49m\u001b[38;5;129;43;01min\u001b[39;49;00m\u001b[43m \u001b[49m\u001b[43moptimizer_state\u001b[49m\u001b[43m[\u001b[49m\u001b[33;43m\"\u001b[39;49m\u001b[33;43mfound_inf_per_device\u001b[39;49m\u001b[33;43m\"\u001b[39;49m\u001b[43m]\u001b[49m\u001b[43m.\u001b[49m\u001b[43mvalues\u001b[49m\u001b[43m(\u001b[49m\u001b[43m)\u001b[49m\u001b[43m)\u001b[49m:\n\u001b[32m    360\u001b[39m         retval = optimizer.step(*args, **kwargs)\n\u001b[32m    361\u001b[39m     \u001b[38;5;28;01mreturn\u001b[39;00m retval\n",
      "\u001b[36mFile \u001b[39m\u001b[32m/workspace/3c17/swin_env/lib/python3.12/site-packages/torch/amp/grad_scaler.py:359\u001b[39m, in \u001b[36m<genexpr>\u001b[39m\u001b[34m(.0)\u001b[39m\n\u001b[32m    351\u001b[39m \u001b[38;5;28;01mdef\u001b[39;00m\u001b[38;5;250m \u001b[39m\u001b[34m_maybe_opt_step\u001b[39m(\n\u001b[32m    352\u001b[39m     \u001b[38;5;28mself\u001b[39m,\n\u001b[32m    353\u001b[39m     optimizer: torch.optim.Optimizer,\n\u001b[32m   (...)\u001b[39m\u001b[32m    356\u001b[39m     **kwargs: Any,\n\u001b[32m    357\u001b[39m ) -> Optional[\u001b[38;5;28mfloat\u001b[39m]:\n\u001b[32m    358\u001b[39m     retval: Optional[\u001b[38;5;28mfloat\u001b[39m] = \u001b[38;5;28;01mNone\u001b[39;00m\n\u001b[32m--> \u001b[39m\u001b[32m359\u001b[39m     \u001b[38;5;28;01mif\u001b[39;00m \u001b[38;5;129;01mnot\u001b[39;00m \u001b[38;5;28msum\u001b[39m(\u001b[43mv\u001b[49m\u001b[43m.\u001b[49m\u001b[43mitem\u001b[49m\u001b[43m(\u001b[49m\u001b[43m)\u001b[49m \u001b[38;5;28;01mfor\u001b[39;00m v \u001b[38;5;129;01min\u001b[39;00m optimizer_state[\u001b[33m\"\u001b[39m\u001b[33mfound_inf_per_device\u001b[39m\u001b[33m\"\u001b[39m].values()):\n\u001b[32m    360\u001b[39m         retval = optimizer.step(*args, **kwargs)\n\u001b[32m    361\u001b[39m     \u001b[38;5;28;01mreturn\u001b[39;00m retval\n",
      "\u001b[31mKeyboardInterrupt\u001b[39m: "
     ]
    }
   ],
   "source": [
    "# =========================================================\n",
    "# Swin Tiny Transformer on DermNet (23 classes)\n",
    "# =========================================================\n",
    "\n",
    "import os\n",
    "import torch\n",
    "import torch.nn as nn\n",
    "import torch.optim as optim\n",
    "from torch.utils.data import DataLoader\n",
    "from torchvision import datasets, transforms\n",
    "from torch.optim.lr_scheduler import CosineAnnealingLR\n",
    "from tqdm import tqdm\n",
    "import matplotlib.pyplot as plt\n",
    "import pandas as pd\n",
    "import timm\n",
    "\n",
    "# -------------------------\n",
    "# ✅ Device setup\n",
    "# -------------------------\n",
    "device = torch.device(\"cuda\" if torch.cuda.is_available() else \"cpu\")\n",
    "print(\"Using device:\", device)\n",
    "\n",
    "# -------------------------\n",
    "# ✅ Dataset paths\n",
    "# -------------------------\n",
    "DATA_ROOT = \"skin_disease_augmented/\"  # contains train/, val/, test/\n",
    "\n",
    "# -------------------------\n",
    "# ✅ Transforms\n",
    "# -------------------------\n",
    "IMG_SIZE = 224\n",
    "mean = [0.485, 0.456, 0.406]\n",
    "std  = [0.229, 0.224, 0.225]\n",
    "\n",
    "train_transform = transforms.Compose([\n",
    "    transforms.Resize((IMG_SIZE, IMG_SIZE)),\n",
    "    transforms.RandomHorizontalFlip(),\n",
    "    transforms.RandomRotation(15),\n",
    "    transforms.ColorJitter(brightness=0.2, contrast=0.2, saturation=0.2),\n",
    "    transforms.ToTensor(),\n",
    "    transforms.Normalize(mean, std)\n",
    "])\n",
    "\n",
    "val_test_transform = transforms.Compose([\n",
    "    transforms.Resize((IMG_SIZE, IMG_SIZE)),\n",
    "    transforms.ToTensor(),\n",
    "    transforms.Normalize(mean, std)\n",
    "])\n",
    "\n",
    "# -------------------------\n",
    "# ✅ Load datasets\n",
    "# -------------------------\n",
    "train_ds = datasets.ImageFolder(os.path.join(DATA_ROOT, \"train\"), transform=train_transform)\n",
    "val_ds   = datasets.ImageFolder(os.path.join(DATA_ROOT, \"val\"), transform=val_test_transform)\n",
    "test_ds  = datasets.ImageFolder(os.path.join(DATA_ROOT, \"test\"), transform=val_test_transform)\n",
    "\n",
    "BATCH_SIZE = 64\n",
    "train_loader = DataLoader(train_ds, batch_size=BATCH_SIZE, shuffle=True, num_workers=4, pin_memory=True)\n",
    "val_loader   = DataLoader(val_ds, batch_size=BATCH_SIZE, shuffle=False, num_workers=4, pin_memory=True)\n",
    "test_loader  = DataLoader(test_ds, batch_size=BATCH_SIZE, shuffle=False, num_workers=4, pin_memory=True)\n",
    "\n",
    "print(f\"Train: {len(train_ds)} | Val: {len(val_ds)} | Test: {len(test_ds)}\")\n",
    "print(\"Classes:\", train_ds.classes)\n",
    "\n",
    "# -------------------------\n",
    "# ✅ Swin Tiny Model\n",
    "# -------------------------\n",
    "NUM_CLASSES = len(train_ds.classes)\n",
    "model = timm.create_model(\"swin_tiny_patch4_window7_224\", pretrained=True, num_classes=NUM_CLASSES)\n",
    "model = model.to(device)\n",
    "print(\"Loaded Swin-Tiny Transformer\")\n",
    "\n",
    "# -------------------------\n",
    "# ✅ Loss, Optimizer, Scheduler\n",
    "# -------------------------\n",
    "criterion = nn.CrossEntropyLoss()\n",
    "optimizer = optim.AdamW(model.parameters(), lr=1e-4, weight_decay=1e-4)\n",
    "num_epochs = 25\n",
    "scheduler = CosineAnnealingLR(optimizer, T_max=num_epochs)\n",
    "\n",
    "# -------------------------\n",
    "# ✅ Training Loop\n",
    "# -------------------------\n",
    "scaler = torch.cuda.amp.GradScaler()\n",
    "history = {\"epoch\": [], \"train_loss\": [], \"train_acc\": [], \"val_loss\": [], \"val_acc\": []}\n",
    "\n",
    "for epoch in range(num_epochs):\n",
    "    print(f\"\\nEpoch [{epoch+1}/{num_epochs}]\")\n",
    "    \n",
    "    # ---- Training ----\n",
    "    model.train()\n",
    "    train_loss, train_correct = 0.0, 0\n",
    "    for inputs, labels in tqdm(train_loader, desc=\"Training\"):\n",
    "        inputs, labels = inputs.to(device), labels.to(device)\n",
    "        optimizer.zero_grad()\n",
    "\n",
    "        with torch.cuda.amp.autocast():\n",
    "            outputs = model(inputs)\n",
    "            loss = criterion(outputs, labels)\n",
    "\n",
    "        scaler.scale(loss).backward()\n",
    "        scaler.step(optimizer)\n",
    "        scaler.update()\n",
    "\n",
    "        _, preds = torch.max(outputs, 1)\n",
    "        train_loss += loss.item() * inputs.size(0)\n",
    "        train_correct += torch.sum(preds == labels.data)\n",
    "\n",
    "    epoch_train_loss = train_loss / len(train_loader.dataset)\n",
    "    epoch_train_acc = train_correct.double() / len(train_loader.dataset)\n",
    "\n",
    "    # ---- Validation ----\n",
    "    model.eval()\n",
    "    val_loss, val_correct = 0.0, 0\n",
    "    with torch.no_grad():\n",
    "        for inputs, labels in tqdm(val_loader, desc=\"Validation\"):\n",
    "            inputs, labels = inputs.to(device), labels.to(device)\n",
    "            with torch.cuda.amp.autocast():\n",
    "                outputs = model(inputs)\n",
    "                loss = criterion(outputs, labels)\n",
    "\n",
    "            _, preds = torch.max(outputs, 1)\n",
    "            val_loss += loss.item() * inputs.size(0)\n",
    "            val_correct += torch.sum(preds == labels.data)\n",
    "\n",
    "    epoch_val_loss = val_loss / len(val_loader.dataset)\n",
    "    epoch_val_acc = val_correct.double() / len(val_loader.dataset)\n",
    "\n",
    "    # ---- Scheduler Step ----\n",
    "    scheduler.step()\n",
    "\n",
    "    # ---- Save history ----\n",
    "    history[\"epoch\"].append(epoch+1)\n",
    "    history[\"train_loss\"].append(epoch_train_loss)\n",
    "    history[\"train_acc\"].append(epoch_train_acc.item())\n",
    "    history[\"val_loss\"].append(epoch_val_loss)\n",
    "    history[\"val_acc\"].append(epoch_val_acc.item())\n",
    "\n",
    "    print(f\"Train Loss: {epoch_train_loss:.4f}, Train Acc: {epoch_train_acc:.4f}\")\n",
    "    print(f\"Val Loss: {epoch_val_loss:.4f}, Val Acc: {epoch_val_acc:.4f}\")\n",
    "\n",
    "# -------------------------\n",
    "# ✅ Plot Training Curves\n",
    "# -------------------------\n",
    "plt.figure(figsize=(8, 6))\n",
    "plt.plot(history[\"epoch\"], history[\"train_loss\"], label=\"Train Loss\")\n",
    "plt.plot(history[\"epoch\"], history[\"val_loss\"], label=\"Val Loss\")\n",
    "plt.plot(history[\"epoch\"], history[\"train_acc\"], label=\"Train Acc\")\n",
    "plt.plot(history[\"epoch\"], history[\"val_acc\"], label=\"Val Acc\")\n",
    "plt.xlabel(\"Epochs\")\n",
    "plt.ylabel(\"Metrics\")\n",
    "plt.legend()\n",
    "plt.title(\"Training Progress (Swin-Tiny)\")\n",
    "plt.show()\n",
    "\n",
    "# -------------------------\n",
    "# ✅ Test Accuracy\n",
    "# -------------------------\n",
    "model.eval()\n",
    "test_correct, test_total = 0, 0\n",
    "with torch.no_grad():\n",
    "    for inputs, labels in tqdm(test_loader, desc=\"Testing\"):\n",
    "        inputs, labels = inputs.to(device), labels.to(device)\n",
    "        outputs = model(inputs)\n",
    "        _, preds = torch.max(outputs, 1)\n",
    "        test_correct += torch.sum(preds == labels).item()\n",
    "        test_total += labels.size(0)\n",
    "\n",
    "test_acc = test_correct / test_total\n",
    "print(f\"\\n✅ Final Test Accuracy: {test_acc*100:.2f}%\")\n"
   ]
  },
  {
   "cell_type": "code",
   "execution_count": null,
   "id": "93e24e5a-a63e-427d-a289-83b3bb289193",
   "metadata": {},
   "outputs": [
    {
     "name": "stderr",
     "output_type": "stream",
     "text": [
      "/workspace/3c17/swin_env/lib/python3.12/site-packages/tqdm/auto.py:21: TqdmWarning: IProgress not found. Please update jupyter and ipywidgets. See https://ipywidgets.readthedocs.io/en/stable/user_install.html\n",
      "  from .autonotebook import tqdm as notebook_tqdm\n"
     ]
    },
    {
     "name": "stdout",
     "output_type": "stream",
     "text": [
      "Using device: cuda\n",
      "Train: 13233 | Val: 4012 | Test: 4017\n",
      "Classes: ['Acne and Rosacea Photos', 'Actinic Keratosis Basal Cell Carcinoma and other Malignant Lesions', 'Atopic Dermatitis Photos', 'Bullous Disease Photos', 'Cellulitis Impetigo and other Bacterial Infections', 'Eczema Photos', 'Exanthems and Drug Eruptions', 'Hair Loss Photos Alopecia and other Hair Diseases', 'Herpes HPV and other STDs Photos', 'Light Diseases and Disorders of Pigmentation', 'Lupus and other Connective Tissue diseases', 'Melanoma Skin Cancer Nevi and Moles', 'Nail Fungus and other Nail Disease', 'Poison Ivy Photos and other Contact Dermatitis', 'Psoriasis pictures Lichen Planus and related diseases', 'Scabies Lyme Disease and other Infestations and Bites', 'Seborrheic Keratoses and other Benign Tumors', 'Systemic Disease', 'Tinea Ringworm Candidiasis and other Fungal Infections', 'Urticaria Hives', 'Vascular Tumors', 'Vasculitis Photos', 'Warts Molluscum and other Viral Infections']\n"
     ]
    },
    {
     "name": "stderr",
     "output_type": "stream",
     "text": [
      "/tmp/ipykernel_428350/4257373711.py:84: FutureWarning: `torch.cuda.amp.GradScaler(args...)` is deprecated. Please use `torch.amp.GradScaler('cuda', args...)` instead.\n",
      "  scaler = torch.cuda.amp.GradScaler()\n"
     ]
    },
    {
     "name": "stdout",
     "output_type": "stream",
     "text": [
      "Loaded Swin-Tiny Transformer\n",
      "\n",
      "Epoch [1/25]\n"
     ]
    },
    {
     "name": "stderr",
     "output_type": "stream",
     "text": [
      "/tmp/ipykernel_428350/4257373711.py:97: FutureWarning: `torch.cuda.amp.autocast(args...)` is deprecated. Please use `torch.amp.autocast('cuda', args...)` instead.\n",
      "  with torch.cuda.amp.autocast():\n",
      "Training:  78%|███████▊  | 162/207 [00:53<00:17,  2.55it/s]"
     ]
    }
   ],
   "source": [
    "# =========================================================\n",
    "# Swin Tiny Transformer on DermNet (23 classes)\n",
    "# =========================================================\n",
    "\n",
    "import os\n",
    "import torch\n",
    "import torch.nn as nn\n",
    "import torch.optim as optim\n",
    "from torch.utils.data import DataLoader\n",
    "from torchvision import datasets, transforms\n",
    "from torch.optim.lr_scheduler import CosineAnnealingLR\n",
    "from tqdm import tqdm\n",
    "import matplotlib.pyplot as plt\n",
    "import pandas as pd\n",
    "import timm\n",
    "\n",
    "# -------------------------\n",
    "# ✅ Device setup\n",
    "# -------------------------\n",
    "device = torch.device(\"cuda\" if torch.cuda.is_available() else \"cpu\")\n",
    "print(\"Using device:\", device)\n",
    "\n",
    "# -------------------------\n",
    "# ✅ Dataset paths\n",
    "# -------------------------\n",
    "DATA_ROOT = \"dataset/\"  # contains train/, val/, test/\n",
    "\n",
    "# -------------------------\n",
    "# ✅ Transforms\n",
    "# -------------------------\n",
    "IMG_SIZE = 224\n",
    "mean = [0.485, 0.456, 0.406]\n",
    "std  = [0.229, 0.224, 0.225]\n",
    "\n",
    "train_transform = transforms.Compose([\n",
    "    transforms.Resize((IMG_SIZE, IMG_SIZE)),\n",
    "    transforms.RandomHorizontalFlip(),\n",
    "    transforms.RandomRotation(15),\n",
    "    transforms.ColorJitter(brightness=0.2, contrast=0.2, saturation=0.2),\n",
    "    transforms.ToTensor(),\n",
    "    transforms.Normalize(mean, std)\n",
    "])\n",
    "\n",
    "val_test_transform = transforms.Compose([\n",
    "    transforms.Resize((IMG_SIZE, IMG_SIZE)),\n",
    "    transforms.ToTensor(),\n",
    "    transforms.Normalize(mean, std)\n",
    "])\n",
    "\n",
    "# -------------------------\n",
    "# ✅ Load datasets\n",
    "# -------------------------\n",
    "train_ds = datasets.ImageFolder(os.path.join(DATA_ROOT, \"train\"), transform=train_transform)\n",
    "val_ds   = datasets.ImageFolder(os.path.join(DATA_ROOT, \"val\"), transform=val_test_transform)\n",
    "test_ds  = datasets.ImageFolder(os.path.join(DATA_ROOT, \"test\"), transform=val_test_transform)\n",
    "\n",
    "BATCH_SIZE = 64\n",
    "train_loader = DataLoader(train_ds, batch_size=BATCH_SIZE, shuffle=True, num_workers=4, pin_memory=True)\n",
    "val_loader   = DataLoader(val_ds, batch_size=BATCH_SIZE, shuffle=False, num_workers=4, pin_memory=True)\n",
    "test_loader  = DataLoader(test_ds, batch_size=BATCH_SIZE, shuffle=False, num_workers=4, pin_memory=True)\n",
    "\n",
    "print(f\"Train: {len(train_ds)} | Val: {len(val_ds)} | Test: {len(test_ds)}\")\n",
    "print(\"Classes:\", train_ds.classes)\n",
    "\n",
    "# -------------------------\n",
    "# ✅ Swin Tiny Model\n",
    "# -------------------------\n",
    "NUM_CLASSES = len(train_ds.classes)\n",
    "model = timm.create_model(\"swin_tiny_patch4_window7_224\", pretrained=True, num_classes=NUM_CLASSES)\n",
    "model = model.to(device)\n",
    "print(\"Loaded Swin-Tiny Transformer\")\n",
    "\n",
    "# -------------------------\n",
    "# ✅ Loss, Optimizer, Scheduler\n",
    "# -------------------------\n",
    "criterion = nn.CrossEntropyLoss()\n",
    "optimizer = optim.AdamW(model.parameters(), lr=1e-4, weight_decay=1e-4)\n",
    "num_epochs = 25\n",
    "scheduler = CosineAnnealingLR(optimizer, T_max=num_epochs)\n",
    "\n",
    "# -------------------------\n",
    "# ✅ Training Loop\n",
    "# -------------------------\n",
    "scaler = torch.cuda.amp.GradScaler()\n",
    "history = {\"epoch\": [], \"train_loss\": [], \"train_acc\": [], \"val_loss\": [], \"val_acc\": []}\n",
    "\n",
    "for epoch in range(num_epochs):\n",
    "    print(f\"\\nEpoch [{epoch+1}/{num_epochs}]\")\n",
    "    \n",
    "    # ---- Training ----\n",
    "    model.train()\n",
    "    train_loss, train_correct = 0.0, 0\n",
    "    for inputs, labels in tqdm(train_loader, desc=\"Training\"):\n",
    "        inputs, labels = inputs.to(device), labels.to(device)\n",
    "        optimizer.zero_grad()\n",
    "\n",
    "        with torch.cuda.amp.autocast():\n",
    "            outputs = model(inputs)\n",
    "            loss = criterion(outputs, labels)\n",
    "\n",
    "        scaler.scale(loss).backward()\n",
    "        scaler.step(optimizer)\n",
    "        scaler.update()\n",
    "\n",
    "        _, preds = torch.max(outputs, 1)\n",
    "        train_loss += loss.item() * inputs.size(0)\n",
    "        train_correct += torch.sum(preds == labels.data)\n",
    "\n",
    "    epoch_train_loss = train_loss / len(train_loader.dataset)\n",
    "    epoch_train_acc = train_correct.double() / len(train_loader.dataset)\n",
    "\n",
    "    # ---- Validation ----\n",
    "    model.eval()\n",
    "    val_loss, val_correct = 0.0, 0\n",
    "    with torch.no_grad():\n",
    "        for inputs, labels in tqdm(val_loader, desc=\"Validation\"):\n",
    "            inputs, labels = inputs.to(device), labels.to(device)\n",
    "            with torch.cuda.amp.autocast():\n",
    "                outputs = model(inputs)\n",
    "                loss = criterion(outputs, labels)\n",
    "\n",
    "            _, preds = torch.max(outputs, 1)\n",
    "            val_loss += loss.item() * inputs.size(0)\n",
    "            val_correct += torch.sum(preds == labels.data)\n",
    "\n",
    "    epoch_val_loss = val_loss / len(val_loader.dataset)\n",
    "    epoch_val_acc = val_correct.double() / len(val_loader.dataset)\n",
    "\n",
    "    # ---- Scheduler Step ----\n",
    "    scheduler.step()\n",
    "\n",
    "    # ---- Save history ----\n",
    "    history[\"epoch\"].append(epoch+1)\n",
    "    history[\"train_loss\"].append(epoch_train_loss)\n",
    "    history[\"train_acc\"].append(epoch_train_acc.item())\n",
    "    history[\"val_loss\"].append(epoch_val_loss)\n",
    "    history[\"val_acc\"].append(epoch_val_acc.item())\n",
    "\n",
    "    print(f\"Train Loss: {epoch_train_loss:.4f}, Train Acc: {epoch_train_acc:.4f}\")\n",
    "    print(f\"Val Loss: {epoch_val_loss:.4f}, Val Acc: {epoch_val_acc:.4f}\")\n",
    "\n",
    "# -------------------------\n",
    "# ✅ Plot Training Curves\n",
    "# -------------------------\n",
    "plt.figure(figsize=(8, 6))\n",
    "plt.plot(history[\"epoch\"], history[\"train_loss\"], label=\"Train Loss\")\n",
    "plt.plot(history[\"epoch\"], history[\"val_loss\"], label=\"Val Loss\")\n",
    "plt.plot(history[\"epoch\"], history[\"train_acc\"], label=\"Train Acc\")\n",
    "plt.plot(history[\"epoch\"], history[\"val_acc\"], label=\"Val Acc\")\n",
    "plt.xlabel(\"Epochs\")\n",
    "plt.ylabel(\"Metrics\")\n",
    "plt.legend()\n",
    "plt.title(\"Training Progress (Swin-Tiny)\")\n",
    "plt.show()\n",
    "\n",
    "# -------------------------\n",
    "# ✅ Test Accuracy\n",
    "# -------------------------\n",
    "model.eval()\n",
    "test_correct, test_total = 0, 0\n",
    "with torch.no_grad():\n",
    "    for inputs, labels in tqdm(test_loader, desc=\"Testing\"):\n",
    "        inputs, labels = inputs.to(device), labels.to(device)\n",
    "        outputs = model(inputs)\n",
    "        _, preds = torch.max(outputs, 1)\n",
    "        test_correct += torch.sum(preds == labels).item()\n",
    "        test_total += labels.size(0)\n",
    "\n",
    "test_acc = test_correct / test_total\n",
    "print(f\"\\n✅ Final Test Accuracy: {test_acc*100:.2f}%\")\n"
   ]
  },
  {
   "cell_type": "code",
   "execution_count": null,
   "id": "bae2b344-3de7-43c5-aa9d-a403adec7d73",
   "metadata": {},
   "outputs": [],
   "source": []
  }
 ],
 "metadata": {
  "kernelspec": {
   "display_name": "Python (swin_env)",
   "language": "python",
   "name": "swin_env"
  },
  "language_info": {
   "codemirror_mode": {
    "name": "ipython",
    "version": 3
   },
   "file_extension": ".py",
   "mimetype": "text/x-python",
   "name": "python",
   "nbconvert_exporter": "python",
   "pygments_lexer": "ipython3",
   "version": "3.12.3"
  }
 },
 "nbformat": 4,
 "nbformat_minor": 5
}
